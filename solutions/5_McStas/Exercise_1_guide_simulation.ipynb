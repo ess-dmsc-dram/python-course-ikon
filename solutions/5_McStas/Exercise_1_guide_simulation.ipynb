{
 "cells": [
  {
   "cell_type": "markdown",
   "metadata": {},
   "source": [
    "# Guide simulation exercise\n",
    "In this notebook we set up a simulation of a simple guide including calculation of the brilliance transfer. The task of the student is to adjust the guide and parameters to improve the beam characteristics and brilliance transfer. "
   ]
  },
  {
   "cell_type": "markdown",
   "metadata": {},
   "source": [
    "### Overview of guide to be simulated\n",
    "The guide to be simulated is shown on the figure below. It consists of a tapered section called *tapered*, a straight section called *guide* and a elliptic focusing section called *focusing*. The geometry of the guide will be described with a number of parameters which are shown below the guide. The focal points of the elliptic section are described as distances from the start and end of the guide section, where positive values are outside the guide element.\n",
    "<img src=\"../../docs/images/McStas_guide_exercise.png\" alt=\"guide_overview\" style=\"width: 800px;\"/>"
   ]
  },
  {
   "cell_type": "markdown",
   "metadata": {},
   "source": [
    "### Writing the simulation\n",
    "We start by loading our python packages and defining an instrument object."
   ]
  },
  {
   "cell_type": "code",
   "execution_count": null,
   "metadata": {},
   "outputs": [],
   "source": [
    "import numpy as np\n",
    "from mcstasscript.interface import instr, functions, plotter"
   ]
  },
  {
   "cell_type": "code",
   "execution_count": null,
   "metadata": {},
   "outputs": [],
   "source": [
    "instrument = instr.McStas_instr(\"guide_exercise\", input_path=\"run_folder\")"
   ]
  },
  {
   "cell_type": "markdown",
   "metadata": {},
   "source": [
    "### Setting our sample parameters\n",
    "Here we define parameters concerning our sample, these can be variables in python as they do not need to change at run time."
   ]
  },
  {
   "cell_type": "code",
   "execution_count": null,
   "metadata": {},
   "outputs": [],
   "source": [
    "sample_width = 0.01 # m\n",
    "sample_height = 0.01 # m\n",
    "max_divergence_horizontal = 1.0 # deg\n",
    "max_divergence_vertical = 0.8 # deg\n",
    "sample_guide_distance = 0.5 # m"
   ]
  },
  {
   "cell_type": "markdown",
   "metadata": {},
   "source": [
    "### Setting up the instrument\n",
    "Here a source and the first guide element is defined along with some input parameters to control the guide geometry."
   ]
  },
  {
   "cell_type": "code",
   "execution_count": null,
   "metadata": {},
   "outputs": [],
   "source": [
    "# Set up a source\n",
    "instrument.add_parameter(\"wavelength\", value=3, comment=\"[AA]\")\n",
    "\n",
    "src = instrument.add_component(\"source\", \"Source_div\")\n",
    "src.xwidth = 0.1\n",
    "src.yheight = 0.05\n",
    "src.lambda0 = \"wavelength\"\n",
    "src.dlambda = 0.01\n",
    "src.focus_aw = 2*max_divergence_horizontal\n",
    "src.focus_ah = 2*max_divergence_vertical\n",
    "src.flux = 1E13\n",
    "\n",
    "# Opening of first tappered section\n",
    "instrument.add_parameter(\"entrance_width\", value=0.05, comment=\"[m]\")\n",
    "instrument.add_parameter(\"entrance_height\", value=0.05, comment=\"[m]\")\n",
    "\n",
    "# divergence reference monitor\n",
    "ref_mon = instrument.add_component(\"ref_mon\", \"Divergence_monitor\")\n",
    "ref_mon.set_AT([0,0,0.01], RELATIVE=src)\n",
    "\n",
    "ref_mon.xwidth = sample_width\n",
    "ref_mon.yheight = sample_height\n",
    "ref_mon.maxdiv_h = max_divergence_horizontal\n",
    "ref_mon.maxdiv_v = max_divergence_vertical\n",
    "ref_mon.nh = 80\n",
    "ref_mon.nv = 100\n",
    "ref_mon.filename = '\"reference_divergence.dat\"'\n",
    "ref_mon.restore_neutron = 1\n",
    "\n",
    "# Start and end of straight section\n",
    "instrument.add_parameter(\"straight_width\", value=0.05, comment=\"[m]\")\n",
    "instrument.add_parameter(\"straight_height\", value=0.05, comment=\"[m]\")\n",
    "\n",
    "# Tappered guide section starting 2 m from moderator\n",
    "tapered = instrument.add_component(\"tappered\", \"Guide_gravity\")\n",
    "tapered.set_AT([0, 0, 2], RELATIVE=src)\n",
    "\n",
    "tapered.w1 = \"entrance_width\"\n",
    "tapered.h1 = \"entrance_height\"\n",
    "tapered.w2 = \"straight_width\"\n",
    "tapered.h2 = \"straight_height\"\n",
    "tapered.l = 8.0\n",
    "tapered.m = 3.5\n",
    "tapered.G = -9.82"
   ]
  },
  {
   "cell_type": "markdown",
   "metadata": {},
   "source": [
    "### Task 1\n",
    "We want to continue with a straight guide that has the same entrance and exit dimensions, these are already defined as parameters *straight_width* and *straight_height*. The object should be called guide in python as shown below, as it is used as a reference for the next component. Give the guide a length of 30 meters and an m coating of 2.0. It is important it is placed just after the exit of the tappered guide, remember you can access the length of the tapered guide as *tapered.l*."
   ]
  },
  {
   "cell_type": "code",
   "execution_count": null,
   "metadata": {},
   "outputs": [],
   "source": [
    "#guide = instrument.add_component(\"guide\", ...)"
   ]
  },
  {
   "cell_type": "code",
   "execution_count": null,
   "metadata": {},
   "outputs": [],
   "source": [
    "# Straight guide section starting 1 mm after end of tappered\n",
    "guide = instrument.add_component(\"guide\", \"Guide_gravity\")\n",
    "guide.set_AT([0, 0, tapered.l + 1E-3], RELATIVE=tapered)\n",
    "\n",
    "guide.w1 = \"straight_width\"\n",
    "guide.h1 = \"straight_height\"\n",
    "guide.w2 = \"straight_width\"\n",
    "guide.h2 = \"straight_height\"\n",
    "guide.l = 30.0\n",
    "guide.m = 2.0\n",
    "guide.G = -9.82"
   ]
  },
  {
   "cell_type": "markdown",
   "metadata": {},
   "source": [
    "### Finishing the instrument\n",
    "The guide is finished with a 6 m long elliptic section that connects to the straight guide. The focal lengths relative to the start and end of the guide are set up as input parameters, positive values means focal points outside of the guide element. At the end we place the sample, here a monitor showing the divergence within the requested divergence interval."
   ]
  },
  {
   "cell_type": "code",
   "execution_count": null,
   "metadata": {},
   "outputs": [],
   "source": [
    "# Elliptic focusing section, starting 1 mm after end of straight\n",
    "focusing = instrument.add_component(\"focusing\", \"Elliptic_guide_gravity\")\n",
    "focusing.set_AT([0, 0, guide.l + 1E-3], RELATIVE=guide)\n",
    "\n",
    "instrument.add_parameter(\"focal_length_in_x\", value=2, comment=\"[m]\")\n",
    "instrument.add_parameter(\"focal_length_in_y\", value=2, comment=\"[m]\")\n",
    "instrument.add_parameter(\"focal_length_out_x\", value=0.5, comment=\"[m]\")\n",
    "instrument.add_parameter(\"focal_length_out_y\", value=0.5, comment=\"[m]\")\n",
    "\n",
    "focusing.dimensionsAt = '\"entrance\"'\n",
    "focusing.xwidth = \"straight_width\"\n",
    "focusing.yheight = \"straight_height\"\n",
    "focusing.m = 4.0\n",
    "focusing.l = 6.0\n",
    "focusing.linxw = \"focal_length_in_x\"\n",
    "focusing.linyh = \"focal_length_in_y\"\n",
    "focusing.loutxw = \"focal_length_out_x\"\n",
    "focusing.loutyh = \"focal_length_out_y\"\n",
    "\n",
    "# Sample monitor needs to be a copy of the reference monitor, so a copy is made to avoid differences\n",
    "sample_mon = instrument.copy_component(\"sample_mon\", \"ref_mon\")\n",
    "sample_mon.set_AT([0, 0, focusing.l + sample_guide_distance], RELATIVE=focusing)\n",
    "sample_mon.filename = '\"sample_mon.dat\"'"
   ]
  },
  {
   "cell_type": "markdown",
   "metadata": {},
   "source": [
    "### Task 2\n",
    "Run the simulation and adjust the parameters manually to maximize the brilliance transfer of the guide at a chosen wavelength. Let us first look at the available parameters. "
   ]
  },
  {
   "cell_type": "code",
   "execution_count": null,
   "metadata": {},
   "outputs": [],
   "source": [
    "instrument.show_parameters()"
   ]
  },
  {
   "cell_type": "markdown",
   "metadata": {},
   "source": [
    "A history of the brilliance transfer results is kept, this can be reset by running the cell below."
   ]
  },
  {
   "cell_type": "code",
   "execution_count": null,
   "metadata": {},
   "outputs": [],
   "source": [
    "# Run this cell to reset history\n",
    "BT_history = []"
   ]
  },
  {
   "cell_type": "markdown",
   "metadata": {},
   "source": [
    "The cell below sets up the desired parameters and runs the simulation. The results are plotted and the brilliance transfer calculated. The brilliance transfer result can only be trusted if the simulated intensity on the reference monitor is uniform, if for example a very large sample is chosen, this would not be the case and further considerations would be necessary. The history of simulated brilliance transfers are plotted to help track progress."
   ]
  },
  {
   "cell_type": "code",
   "execution_count": null,
   "metadata": {},
   "outputs": [],
   "source": [
    "parameters = {\"wavelength\": 3.0,\n",
    "              \"entrance_width\": 0.05, \"entrance_height\": 0.05,\n",
    "              \"straight_width\": 0.05, \"straight_height\": 0.05,\n",
    "              \"focal_length_in_x\": 2, \"focal_length_in_y\": 2, \n",
    "              \"focal_length_in_x\": 0.5, \"focal_length_in_y\": 0.5}\n",
    "\n",
    "data = instrument.run_full_instrument(ncount=1E6, foldername=\"data_folder/guide_exercise\",\n",
    "                                      increment_folder_name=True,\n",
    "                                      parameters=parameters)\n",
    "\n",
    "# Plot the data\n",
    "plotter.make_sub_plot(data)\n",
    "\n",
    "# Find reference monitor and calculate total intensity\n",
    "ref = functions.name_search(\"ref_mon\", data)\n",
    "ref_I = ref.Intensity\n",
    "ref_total_I = np.sum(ref_I)\n",
    "\n",
    "# Find sample monitor and calculate total intensity\n",
    "sample = functions.name_search(\"sample_mon\", data)\n",
    "sample_I = sample.Intensity\n",
    "sample_total_I = np.sum(sample_I)\n",
    "\n",
    "# Calculate brilliance transfer and append to history\n",
    "BT_percentage = 100*sample_total_I/ref_total_I\n",
    "BT_history.append(BT_percentage)\n",
    "\n",
    "# Print the found brilliance transfer\n",
    "print(\"Found brilliance transfer = \", BT_percentage, \"%\")\n",
    "\n",
    "# Plot the history\n",
    "import matplotlib.pyplot as plt\n",
    "plt.figure()\n",
    "plt.plot(BT_history, \"-o\")\n",
    "plt.xlabel(\"Attempt number\")\n",
    "plt.ylabel(\"BT in %\")\n",
    "plt.show()"
   ]
  },
  {
   "cell_type": "markdown",
   "metadata": {},
   "source": [
    "### Task 3 (Optional)\n",
    "Since the intensity is available in numpy arrays, *ref_I* and *sample_I*, one can plot the 1D horizontal and vertical brilliance transfer by summing over one dimension and normalizing. Below the task is started by setting up the axis for horizontal and vertical divergence.\n",
    "\n",
    "**Hint:** <br>\n",
    "The np.sum function can sum over different directions in the data using the rank of the desired direction as the second input, for example np.sum(data, 0)."
   ]
  },
  {
   "cell_type": "code",
   "execution_count": null,
   "metadata": {},
   "outputs": [],
   "source": [
    "h_div_limits = sample.metadata.limits[0:2]\n",
    "v_div_limits = sample.metadata.limits[2:4]\n",
    "\n",
    "h_div_axis = np.linspace(h_div_limits[0], h_div_limits[1], sample_I.shape[1])\n",
    "v_div_axis = np.linspace(v_div_limits[0], v_div_limits[1], sample_I.shape[0])\n",
    "\n",
    "# Sum along direction 0 to get horizontal divergence\n",
    "h_div_sample_I = np.sum(sample_I, 0)\n",
    "h_div_ref_I = np.sum(ref_I, 0)\n",
    "\n",
    "# Sum along direction 1 to get vertical divergence\n",
    "v_div_sample_I = np.sum(sample_I, 1)\n",
    "v_div_ref_I = np.sum(ref_I, 1)\n",
    "\n",
    "plt.figure()\n",
    "plt.plot(h_div_axis, h_div_sample_I/h_div_ref_I) # plot sample normalized to reference\n",
    "plt.xlabel(\"Divergence [deg]\")\n",
    "plt.ylabel(\"Brilliance transfer [1]\")\n",
    "plt.show()\n",
    "\n",
    "plt.figure()\n",
    "plt.plot(v_div_axis, v_div_sample_I/v_div_ref_I) # plot sample normalized to reference\n",
    "plt.xlabel(\"Divergence [deg]\")\n",
    "plt.ylabel(\"Brilliance transfer [1]\")\n",
    "plt.show()"
   ]
  },
  {
   "cell_type": "code",
   "execution_count": null,
   "metadata": {},
   "outputs": [],
   "source": []
  },
  {
   "cell_type": "code",
   "execution_count": null,
   "metadata": {},
   "outputs": [],
   "source": []
  }
 ],
 "metadata": {
  "kernelspec": {
   "display_name": "Python 3",
   "language": "python",
   "name": "python3"
  },
  "language_info": {
   "codemirror_mode": {
    "name": "ipython",
    "version": 3
   },
   "file_extension": ".py",
   "mimetype": "text/x-python",
   "name": "python",
   "nbconvert_exporter": "python",
   "pygments_lexer": "ipython3",
   "version": "3.8.8"
  }
 },
 "nbformat": 4,
 "nbformat_minor": 2
}
