{
 "cells": [
  {
   "cell_type": "markdown",
   "metadata": {},
   "source": [
    "# Fitting with scipy - solution to bonus exercise"
   ]
  },
  {
   "cell_type": "code",
   "execution_count": null,
   "metadata": {},
   "outputs": [],
   "source": [
    "# import python modules for plotting, fitting\n",
    "import numpy as np\n",
    "import matplotlib.pyplot as plt\n",
    "from scipy.optimize import curve_fit\n",
    "# for interactive widgets\n",
    "import ipywidgets as ipw"
   ]
  },
  {
   "cell_type": "code",
   "execution_count": null,
   "metadata": {},
   "outputs": [],
   "source": [
    "%matplotlib widget"
   ]
  },
  {
   "cell_type": "code",
   "execution_count": null,
   "metadata": {},
   "outputs": [],
   "source": [
    "def lorentzian(xx, scale=1.0, center=1.0, hwhm=3.0):\n",
    "    if hwhm == 0:\n",
    "        raise ValueError('hwhm of the lorentzian is equal to zero.')\n",
    "    return scale * hwhm / ((xx-center)**2 + hwhm**2) / np.pi"
   ]
  },
  {
   "cell_type": "code",
   "execution_count": null,
   "metadata": {},
   "outputs": [],
   "source": [
    "xx = np.linspace(-10, 10, 500)\n",
    "new_data = lorentzian(xx, 3, 4, 0.5) * (\n",
    "    1. + 0.1*np.random.normal(0,1,500)) + 0.01*np.random.normal(0,1,500)\n",
    "\n",
    "initial_params = {\"scale\": 5.5,\n",
    "                  \"center\": 1.0,\n",
    "                  \"hwhm\": 2.5}\n",
    "\n",
    "fig8 = plt.figure()\n",
    "gs = fig8.add_gridspec(3, 1)\n",
    "f8_ax1 = fig8.add_subplot(gs[0:2, :])\n",
    "f8_ax2 = fig8.add_subplot(gs[2, :])\n",
    "f8_ax1.plot(xx, new_data, label=\"reference data for exercise\")\n",
    "lines = f8_ax1.plot(xx, lorentzian(xx, *list(initial_params.values())), label='model to be fitted')\n",
    "fit_lines = f8_ax1.plot(xx, np.zeros_like(xx), '--', label='fit')\n",
    "res_lines = f8_ax2.plot(xx, np.zeros_like(xx), label='residuals')\n",
    "f8_ax1.set_ylabel('lorentzian(x,{},{},{})'.format(*list(initial_params.values())))\n",
    "f8_ax1.set_xlabel('x')\n",
    "f8_ax1.grid()\n",
    "f8_ax1.legend()\n",
    "f8_ax2.set_xlabel('x')\n",
    "f8_ax2.grid()\n",
    "f8_ax2.legend()\n",
    "\n",
    "# define slider to interactively modify the parameters\n",
    "sliders = {key: ipw.FloatSlider(min=1.0, max=10.0, value=value, description=key)\n",
    "           for key, value in initial_params.items()}\n",
    "sliders[\"center\"].min = -sliders[\"center\"].max\n",
    "\n",
    "# define function to be plotted\n",
    "def interactive_plot(change):\n",
    "    params = [sliders[key].value for key in sliders]\n",
    "    lines[0].set_ydata(lorentzian(xx, *params))\n",
    "    f8_ax1.set_ylabel('lorentzian(x,{},{},{})'.format(*params))\n",
    "\n",
    "# add observers to the sliders to update the plot\n",
    "for sl in sliders.values():\n",
    "    sl.observe(interactive_plot, names=\"value\")\n",
    "\n",
    "# Define function to reset all parameters' values to the initial ones\n",
    "def reset_values(b):\n",
    "    \"\"\"Reset the interactive plots to inital values.\"\"\"\n",
    "    for key, value in initial_params.items():\n",
    "        sliders[key].value = value\n",
    "\n",
    "# Define reset button and occurring action when clicking on it\n",
    "reset_button = ipw.Button(description = \"Reset\")\n",
    "reset_button.on_click(reset_values)\n",
    "\n",
    "params = [0, 0, 0]\n",
    "pcov = [0, 0, 0]\n",
    "\n",
    "# Capture fit results output\n",
    "fit_results = ipw.Output()\n",
    "\n",
    "chosen_method_optim = ipw.RadioButtons(\n",
    "    options=['lm', 'trf', 'dogbox'],\n",
    "    value='lm', # Defaults to 'lm'\n",
    "    description='Method for optimization',\n",
    "    style={'description_width': 'initial'},\n",
    "    disabled=False\n",
    ")\n",
    "\n",
    "# Define reset button and occurring action when clicking on it\n",
    "run_fit_button = ipw.Button(description = \"Fit!\")\n",
    "\n",
    "# display the interactive plot\n",
    "display(ipw.VBox(list(sliders.values())), reset_button)\n",
    "display(ipw.HBox([chosen_method_optim, run_fit_button, fit_results]))\n",
    "\n",
    "def run_fit(button):\n",
    "    params, pcov = curve_fit(lorentzian, xx, new_data,\n",
    "                                      method=chosen_method_optim.value,\n",
    "                                      p0=list(initial_params.values()))\n",
    "    fit_results.clear_output()\n",
    "    with fit_results:\n",
    "        params_error = np.sqrt(np.diag(pcov))\n",
    "        print('Values of refined parameters:')\n",
    "        print('scale:', params[0],'+/-', params_error[0])\n",
    "        print('center :', params[1],'+/-', params_error[1])\n",
    "        print('HWHM', params[2],'+/-', params_error[2])\n",
    "    fit_lines[0].set_ydata(lorentzian(xx, *params))\n",
    "    res_lines[0].set_ydata(new_data - fit_lines[0].get_ydata())\n",
    "\n",
    "run_fit_button.on_click(run_fit)"
   ]
  }
 ],
 "metadata": {
  "kernelspec": {
   "display_name": "Python 3 (ipykernel)",
   "language": "python",
   "name": "python3"
  },
  "language_info": {
   "codemirror_mode": {
    "name": "ipython",
    "version": 3
   },
   "file_extension": ".py",
   "mimetype": "text/x-python",
   "name": "python",
   "nbconvert_exporter": "python",
   "pygments_lexer": "ipython3",
   "version": "3.9.7"
  }
 },
 "nbformat": 4,
 "nbformat_minor": 4
}
