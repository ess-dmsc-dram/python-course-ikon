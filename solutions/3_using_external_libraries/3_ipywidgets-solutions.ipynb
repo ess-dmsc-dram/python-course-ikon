{
 "cells": [
  {
   "cell_type": "markdown",
   "metadata": {},
   "source": [
    "# Solutions to Ipywidgets exercises"
   ]
  },
  {
   "cell_type": "code",
   "execution_count": null,
   "metadata": {},
   "outputs": [],
   "source": [
    "import ipywidgets as widgets\n",
    "from IPython.display import display\n",
    "import numpy as np\n",
    "import matplotlib.pyplot as plt"
   ]
  },
  {
   "cell_type": "code",
   "execution_count": null,
   "metadata": {},
   "outputs": [],
   "source": [
    "%matplotlib widget"
   ]
  },
  {
   "cell_type": "markdown",
   "metadata": {},
   "source": [
    "## 1. Dynamically disabling and hiding widgets"
   ]
  },
  {
   "cell_type": "code",
   "execution_count": null,
   "metadata": {},
   "outputs": [],
   "source": [
    "rb = widgets.RadioButtons(\n",
    "    options=[\"1D\", \"2D\", \"3D\"],\n",
    "    description='Ndims:',\n",
    "    value=\"1D\")\n",
    "\n",
    "ndim = int(rb.value[0])\n",
    "\n",
    "pos = []\n",
    "vel = []\n",
    "for i, x in enumerate(\"xyz\"):\n",
    "    pos.append(widgets.FloatText(value=0, description=\"{}:\".format(x), disabled=ndim<1+i))\n",
    "    vel.append(widgets.FloatText(value=0, description=\"v_{}:\".format(x)))\n",
    "    if i > ndim-1:\n",
    "        vel[-1].layout.visibility = 'hidden'\n",
    "\n",
    "def update_components(change):\n",
    "    ndim = int(change[\"new\"][0])\n",
    "    for i in range(len(pos)):\n",
    "        pos[i].disabled = ndim < 1+i\n",
    "        if i > ndim-1:\n",
    "            vel[i].layout.visibility = 'hidden'\n",
    "        else:\n",
    "            vel[i].layout.visibility = 'visible'\n",
    "\n",
    "rb.observe(update_components, names=\"value\")\n",
    "\n",
    "box = widgets.HBox([rb, widgets.VBox(pos), widgets.VBox(vel)])\n",
    "display(box)"
   ]
  },
  {
   "cell_type": "markdown",
   "metadata": {},
   "source": [
    "**BONUS:**"
   ]
  },
  {
   "cell_type": "code",
   "execution_count": null,
   "metadata": {
    "scrolled": true
   },
   "outputs": [],
   "source": [
    "ndim = widgets.IntText(value=1, description='Ndims:')\n",
    "\n",
    "pos = []\n",
    "vel = []\n",
    "for i in range(ndim.value):\n",
    "    pos.append(widgets.FloatText(value=0, description=\"pos_{}:\".format(i)))\n",
    "    vel.append(widgets.FloatText(value=0, description=\"vel_{}:\".format(i)))\n",
    "\n",
    "pos_box = widgets.VBox(pos)\n",
    "vel_box = widgets.VBox(vel)\n",
    "\n",
    "def update_components(change):\n",
    "    ndim_new = change[\"new\"]\n",
    "    ndim_old = len(pos_box.children)\n",
    "    if ndim_old < ndim_new:\n",
    "        new_pos = []\n",
    "        new_vel = []\n",
    "        for i in range(ndim_new-ndim_old):\n",
    "            new_pos.append(widgets.FloatText(value=0, description=\"pos_{}:\".format(i + ndim_old)))\n",
    "            new_vel.append(widgets.FloatText(value=0, description=\"vel_{}:\".format(i + ndim_old)))\n",
    "        pos_box.children = list(pos_box.children) + new_pos\n",
    "        vel_box.children = list(vel_box.children) + new_vel\n",
    "    else:\n",
    "        pos_box.children = [pos_box.children[i] for i in range(ndim_new)]\n",
    "        vel_box.children = [vel_box.children[i] for i in range(ndim_new)]\n",
    "\n",
    "ndim.observe(update_components, names=\"value\")\n",
    "\n",
    "box = widgets.HBox([ndim, pos_box, vel_box])\n",
    "display(box)"
   ]
  },
  {
   "cell_type": "markdown",
   "metadata": {},
   "source": [
    "## 2. Use a slider to change the number of scatter points in a Matplotlib figure"
   ]
  },
  {
   "cell_type": "code",
   "execution_count": null,
   "metadata": {},
   "outputs": [],
   "source": [
    "N = 100\n",
    "x = np.random.normal(0.0, scale=20.0, size=N)\n",
    "y = np.random.normal(0.0, scale=20.0, size=N)\n",
    "\n",
    "fig, ax = plt.subplots()\n",
    "scat = ax.scatter(x, y, color=\"blue\", alpha=0.5)\n",
    "\n",
    "cp = widgets.ColorPicker(\n",
    "    concise=False,\n",
    "    description='Pick a color',\n",
    "    value='blue',\n",
    "    disabled=False\n",
    ")\n",
    "\n",
    "def update_scatter(change):\n",
    "    ax.collections = []\n",
    "    M = int(change[\"new\"])\n",
    "    x = np.random.normal(0.0, scale=20.0, size=M)\n",
    "    y = np.random.normal(0.0, scale=20.0, size=M)\n",
    "    ax.scatter(x, y, color=cp.value, alpha=0.5)\n",
    "\n",
    "sl = widgets.FloatLogSlider(\n",
    "    value=N,\n",
    "    base=10,\n",
    "    min=0, # max exponent of base\n",
    "    max=5, # min exponent of base\n",
    "    step=0.1, # exponent step\n",
    "    description='Log Slider'\n",
    ")\n",
    "\n",
    "sl.observe(update_scatter, names=\"value\")\n",
    "\n",
    "def update_color(change):\n",
    "    ax.collections[-1].set_color(change[\"new\"])\n",
    "\n",
    "cp.observe(update_color, names=\"value\")\n",
    "\n",
    "display(widgets.HBox([sl, cp]))"
   ]
  },
  {
   "cell_type": "markdown",
   "metadata": {},
   "source": [
    "## 3. Create an interface to dynamically resize an image"
   ]
  },
  {
   "cell_type": "code",
   "execution_count": null,
   "metadata": {
    "scrolled": false
   },
   "outputs": [],
   "source": [
    "import PIL.Image as Image\n",
    "\n",
    "img = Image.open(\"../../docs/images/ESS_02_small.jpg\")\n",
    "\n",
    "im_size = [img.width, img.height]\n",
    "\n",
    "width = widgets.IntText(value=img.width, description='Width:')\n",
    "height = widgets.IntText(value=img.height, description='Height:')\n",
    "button = widgets.Button(description='Resize!')\n",
    "\n",
    "hbox = widgets.HBox([width, height, button])\n",
    "im_widget = widgets.Image(value=img._repr_png_(), width=img.width, height=img.height)\n",
    "\n",
    "def resize_image(event):\n",
    "    resized = img.copy().resize((width.value, height.value))\n",
    "#     resized = resized.resize((im_size[0], im_size[1]))\n",
    "    im_widget.value = resized._repr_png_()\n",
    "    im_widget.width = width.value\n",
    "    im_widget.height = height.value\n",
    "    return\n",
    "\n",
    "button.on_click(resize_image)\n",
    "\n",
    "sl_width = widgets.IntSlider(value=img.width, min=2, max=img.width)\n",
    "sl_height = widgets.IntSlider(value=img.height, min=2, max=img.height)\n",
    "\n",
    "def update_width(change):\n",
    "    width.value = change[\"new\"]\n",
    "    resize_image(None)\n",
    "    return\n",
    "\n",
    "def update_height(change):\n",
    "    height.value = change[\"new\"]\n",
    "    resize_image(None)\n",
    "    return\n",
    "\n",
    "sl_width.observe(update_width, names=\"value\")\n",
    "sl_height.observe(update_height, names=\"value\")\n",
    "\n",
    "display(widgets.VBox([im_widget, hbox]))\n",
    "display(widgets.HBox([sl_width, sl_height]))"
   ]
  },
  {
   "cell_type": "code",
   "execution_count": null,
   "metadata": {},
   "outputs": [],
   "source": []
  }
 ],
 "metadata": {
  "kernelspec": {
   "display_name": "Python 3",
   "language": "python",
   "name": "python3"
  },
  "language_info": {
   "codemirror_mode": {
    "name": "ipython",
    "version": 3
   },
   "file_extension": ".py",
   "mimetype": "text/x-python",
   "name": "python",
   "nbconvert_exporter": "python",
   "pygments_lexer": "ipython3",
   "version": "3.7.4"
  }
 },
 "nbformat": 4,
 "nbformat_minor": 2
}
