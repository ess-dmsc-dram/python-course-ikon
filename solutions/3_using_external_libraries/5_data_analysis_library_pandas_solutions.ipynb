{
 "cells": [
  {
   "cell_type": "markdown",
   "metadata": {},
   "source": [
    "# Python Data Analysis Library: Pandas \n",
    "\n",
    "<div class=\"alert alert-block alert-success\">\n",
    "    <b>NOTE</b>\n",
    "    <br>If you are using the Jupyter Hub provided for the IKON training, all the modules should be installed. In this case, please ignore the installation sections.\n",
    "</div>\n",
    "\n",
    "## Introduction\n",
    "\n",
    "This document will give a short introduction to one of the Python Data Analysis Library: `Pandas`.  \n",
    "\n",
    "`Pandas` is widely used in data science, machine learning, scientific computing, and many other data-intensive fields. Some of its advantages are:\n",
    "\n",
    "- data representation: easy to read, suited for data analysis \n",
    "- easy handling of missing data\n",
    "- easy to add/delete columns from `Pandas` data structures\n",
    "- data alignment: intelligent automatic label-based alignment\n",
    "- handling large datasets\n",
    "- powerful grouping of data\n",
    "- native to `Python`\n",
    "  \n",
    "`Pandas` provides rich data structures and indexing functionality to make it easy to reshape, slice and dice, perform aggregations, and select subsets of data. Its key data structures are called the _Series_ and _DataFrame_.\n",
    "\n",
    "A _Series_ is a one dimensional array-like object containing an array of data and an associated array of data labels, called its index.\n",
    "\n",
    "_DataFrames_ are two-dimensional tabular, column-oriented data structures with both row and column labels.\n",
    "\n",
    "## Installation\n",
    "\n",
    "You can install `pandas` using `pip` by typing the following command in a terminal:\n",
    "```\n",
    "python -m pip install pandas\n",
    "```\n",
    "or with `conda` \n",
    "\n",
    "```\n",
    "conda install pandas\n",
    "```\n",
    "\n",
    "or directly from a jupyter notebook:\n",
    "\n",
    "```\n",
    "import sys\n",
    "!{sys.executable} -m pip install pandas\n",
    "```\n",
    "\n",
    "To start using it, simply type:\n",
    "\n",
    "```\n",
    "import pandas\n",
    "```"
   ]
  },
  {
   "cell_type": "code",
   "execution_count": null,
   "metadata": {},
   "outputs": [],
   "source": [
    "import numpy as np\n",
    "import pandas as pd"
   ]
  },
  {
   "cell_type": "markdown",
   "metadata": {},
   "source": [
    "## Solutions to the exercises\n",
    "### How to combine many series to form a dataframe?"
   ]
  },
  {
   "cell_type": "code",
   "execution_count": null,
   "metadata": {},
   "outputs": [],
   "source": [
    "series1 = pd.Series(['a','b', 'c', 'd'])\n",
    "series2 = pd.Series([1, 2, 3, 4])"
   ]
  },
  {
   "cell_type": "code",
   "execution_count": null,
   "metadata": {},
   "outputs": [],
   "source": [
    "# Solution 1\n",
    "df = pd.concat([series1, series2], axis=1)\n",
    "print(f'Solution1:\\n{df}')"
   ]
  },
  {
   "cell_type": "code",
   "execution_count": null,
   "metadata": {},
   "outputs": [],
   "source": [
    "# Solution 2\n",
    "df = pd.DataFrame({'col1': series1, 'col2': series2})\n",
    "print(f'\\nSolution2:\\n{df}')"
   ]
  },
  {
   "cell_type": "markdown",
   "metadata": {},
   "source": [
    "### How to stack two series vertically and horizontally ?\n",
    "Stack `series1` and `series2` vertically and horizontally to form a dataframe."
   ]
  },
  {
   "cell_type": "code",
   "execution_count": null,
   "metadata": {},
   "outputs": [],
   "source": [
    "# Input\n",
    "series1 = pd.Series(range(5))\n",
    "series2 = pd.Series(list('vwxyz'))"
   ]
  },
  {
   "cell_type": "code",
   "execution_count": null,
   "metadata": {},
   "outputs": [],
   "source": [
    "# Solution\n",
    "# Vertical\n",
    "series1.append(series2)"
   ]
  },
  {
   "cell_type": "code",
   "execution_count": null,
   "metadata": {},
   "outputs": [],
   "source": [
    "# Horizontal\n",
    "df = pd.concat([series1, series2], axis=1)\n",
    "print(df)"
   ]
  },
  {
   "cell_type": "markdown",
   "metadata": {},
   "source": [
    "### How to get the positions of items of series A in another series B?\n",
    "\n",
    "Get the positions of items of `series2` in `series1` as a list."
   ]
  },
  {
   "cell_type": "code",
   "execution_count": null,
   "metadata": {},
   "outputs": [],
   "source": [
    "# Input\n",
    "series1 = pd.Series([10, 3, 6, 5, 3, 1, 12, 8, 23])\n",
    "series2 = pd.Series([1, 3, 5, 23])"
   ]
  },
  {
   "cell_type": "code",
   "execution_count": null,
   "metadata": {},
   "outputs": [],
   "source": [
    "# Solution 1\n",
    "[np.where(i == series1)[0].tolist()[0] for i in series2]"
   ]
  },
  {
   "cell_type": "code",
   "execution_count": null,
   "metadata": {},
   "outputs": [],
   "source": [
    "# Solution 2\n",
    "[pd.Index(series1).get_loc(i) for i in series2]"
   ]
  },
  {
   "cell_type": "markdown",
   "metadata": {},
   "source": [
    "### How to compute difference of differences between consecutive numbers of a series?\n",
    "\n",
    "Difference of differences between the consecutive numbers of `series`."
   ]
  },
  {
   "cell_type": "code",
   "execution_count": null,
   "metadata": {},
   "outputs": [],
   "source": [
    "# Input\n",
    "series = pd.Series([1, 3, 6, 10, 15, 21, 27, 35])"
   ]
  },
  {
   "cell_type": "code",
   "execution_count": null,
   "metadata": {},
   "outputs": [],
   "source": [
    "# Solution\n",
    "print(series.diff().tolist())\n",
    "print(series.diff().diff().tolist())"
   ]
  },
  {
   "cell_type": "markdown",
   "metadata": {},
   "source": [
    "### How to check if a dataframe has any missing values?\n",
    "\n",
    "Check if _df_ has any missing values."
   ]
  },
  {
   "cell_type": "code",
   "execution_count": null,
   "metadata": {},
   "outputs": [],
   "source": [
    "# Input\n",
    "df = pd.DataFrame(np.random.randn(6, 4), \n",
    "                         index=list('abcdef'), \n",
    "                         columns=list('ABCD'))\n",
    "df['E'] = [0.5, np.nan, -0.33, np.nan, 3.14, 8]\n",
    "\n",
    "# Solution\n",
    "df.isnull().values.any()"
   ]
  },
  {
   "cell_type": "markdown",
   "metadata": {},
   "source": [
    "### Playing with `groupby` and csv files\n",
    "\n",
    "- load the csv file [`biostats.csv`](https://people.sc.fsu.edu/~jburkardt/data/csv/biostats.csv) to a `users` DataFrame\n",
    "- determine the average, minimum and maximum ages per gender\n",
    "- determine the average weight of people over 35 years of age"
   ]
  },
  {
   "cell_type": "code",
   "execution_count": null,
   "metadata": {},
   "outputs": [],
   "source": [
    "users = pd.read_csv('biostats.csv', skipinitialspace=True) # if the file is in the same directory as this notebook\n",
    "# users = pd.read_csv('https://people.sc.fsu.edu/~jburkardt/data/csv/biostats.csv', skipinitialspace=True) # to download and create the DataFrame at once\n",
    "users"
   ]
  },
  {
   "cell_type": "code",
   "execution_count": null,
   "metadata": {},
   "outputs": [],
   "source": [
    "# Average age per gender\n",
    "# option 1\n",
    "users.groupby('Sex')['Age'].mean()"
   ]
  },
  {
   "cell_type": "code",
   "execution_count": null,
   "metadata": {},
   "outputs": [],
   "source": [
    "# option 2\n",
    "users.groupby('Sex').Age.mean()"
   ]
  },
  {
   "cell_type": "code",
   "execution_count": null,
   "metadata": {},
   "outputs": [],
   "source": [
    "# One can also plot the result\n",
    "users.groupby('Sex')['Age'].mean().plot(kind='bar', grid=True);"
   ]
  },
  {
   "cell_type": "code",
   "execution_count": null,
   "metadata": {},
   "outputs": [],
   "source": [
    "# min max age per gender\n",
    "# option 1\n",
    "print(f\"Minimum age by gender:\\n {users.groupby('Sex')['Age'].min()}\\nMaximum age by gender:\\n {users.groupby('Sex')['Age'].max()}\")"
   ]
  },
  {
   "cell_type": "code",
   "execution_count": null,
   "metadata": {},
   "outputs": [],
   "source": [
    "# option 2\n",
    "users.groupby('Sex').Age.min(), users.groupby('Sex').Age.max()"
   ]
  },
  {
   "cell_type": "code",
   "execution_count": null,
   "metadata": {},
   "outputs": [],
   "source": [
    "# Other solution: Calculate average, mean and max at once\n",
    "users.groupby('Sex')['Age'].agg([np.mean, np.min, np.max])"
   ]
  },
  {
   "cell_type": "code",
   "execution_count": null,
   "metadata": {
    "scrolled": true
   },
   "outputs": [],
   "source": [
    "# Average weight and height of people over 35 years of age\n",
    "users[users.Age > 35].loc[:, 'Height (in)':'Weight (lbs)'].mean()"
   ]
  },
  {
   "cell_type": "markdown",
   "metadata": {},
   "source": [
    "## References\n",
    "\n",
    "https://pandas.pydata.org/\n",
    "\n",
    "https://pandas.pydata.org/pandas-docs/stable/user_guide/10min.html\n",
    "\n",
    "Exercises:   \n",
    "https://www.w3resource.com/python-exercises/pandas/index.php  \n",
    "https://github.com/guipsamora/pandas_exercises/tree/master/03_Grouping/Occupation\n",
    "\n",
    "CSV files:  \n",
    "https://people.sc.fsu.edu/~jburkardt/data/csv/csv.html"
   ]
  },
  {
   "cell_type": "code",
   "execution_count": null,
   "metadata": {},
   "outputs": [],
   "source": []
  }
 ],
 "metadata": {
  "hide_input": false,
  "kernelspec": {
   "display_name": "Python 3 (ipykernel)",
   "language": "python",
   "name": "python3"
  },
  "language_info": {
   "codemirror_mode": {
    "name": "ipython",
    "version": 3
   },
   "file_extension": ".py",
   "mimetype": "text/x-python",
   "name": "python",
   "nbconvert_exporter": "python",
   "pygments_lexer": "ipython3",
   "version": "3.9.7"
  },
  "toc": {
   "base_numbering": 1,
   "nav_menu": {},
   "number_sections": true,
   "sideBar": true,
   "skip_h1_title": false,
   "title_cell": "Table of Contents",
   "title_sidebar": "Contents",
   "toc_cell": false,
   "toc_position": {},
   "toc_section_display": true,
   "toc_window_display": false
  },
  "varInspector": {
   "cols": {
    "lenName": 16,
    "lenType": 16,
    "lenVar": 40
   },
   "kernels_config": {
    "python": {
     "delete_cmd_postfix": "",
     "delete_cmd_prefix": "del ",
     "library": "var_list.py",
     "varRefreshCmd": "print(var_dic_list())"
    },
    "r": {
     "delete_cmd_postfix": ") ",
     "delete_cmd_prefix": "rm(",
     "library": "var_list.r",
     "varRefreshCmd": "cat(var_dic_list()) "
    }
   },
   "types_to_exclude": [
    "module",
    "function",
    "builtin_function_or_method",
    "instance",
    "_Feature"
   ],
   "window_display": false
  }
 },
 "nbformat": 4,
 "nbformat_minor": 4
}
