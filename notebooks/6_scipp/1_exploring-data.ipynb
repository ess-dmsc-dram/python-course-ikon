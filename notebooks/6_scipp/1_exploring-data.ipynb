{
 "cells": [
  {
   "cell_type": "markdown",
   "metadata": {
    "tags": []
   },
   "source": [
    "# Exploring data\n",
    "\n",
    "When working with a dataset, the first step is usually to understand what data and metadata it contains.\n",
    "In this chapter we explore how scipp supports this.\n",
    "\n",
    "This tutorial contains exercises, but solutions are included directly.\n",
    "We encourage you to download this notebook and run through it step by step before looking at the solutions.\n",
    "We recommend to use a recent version of *JupyterLab*:\n",
    "The solutions are included as hidden cells and shown only on demand.\n",
    "\n",
    "First, in addition to importing `scipp`, we import `scippneutron` since this is required for loading Nexus files:"
   ]
  },
  {
   "cell_type": "code",
   "execution_count": null,
   "metadata": {},
   "outputs": [],
   "source": [
    "import scipp as sc\n",
    "import scippneutron as scn"
   ]
  },
  {
   "cell_type": "markdown",
   "metadata": {},
   "source": [
    "We  start by loading some data, in this case measured with a prototype of the [LoKI](https://europeanspallationsource.se/instruments/loki) detectors at the [LARMOR beamline](https://www.isis.stfc.ac.uk/Pages/Larmor.aspx):"
   ]
  },
  {
   "cell_type": "code",
   "execution_count": null,
   "metadata": {},
   "outputs": [],
   "source": [
    "data = scn.data.tutorial_dense_data()"
   ]
  },
  {
   "cell_type": "markdown",
   "metadata": {},
   "source": [
    "Note that the exercises in the following are fictional and do not represent the actual SANS data reduction workflow."
   ]
  },
  {
   "cell_type": "markdown",
   "metadata": {},
   "source": [
    "## Step 1: Use the HTML representation to see what the loaded data contains\n",
    "\n",
    "The HTML representation is what Jupyter displays for a scipp object.\n",
    "\n",
    "- Take some time to explore this view and try to understand all the information (dimensions, dtypes, units, ...).\n",
    "- Note that sections can be expanded, and values can shown by clicking the icons to the right."
   ]
  },
  {
   "cell_type": "code",
   "execution_count": null,
   "metadata": {},
   "outputs": [],
   "source": [
    "data"
   ]
  },
  {
   "cell_type": "markdown",
   "metadata": {},
   "source": [
    "Whenever you get stuck with one of the exercises below we recommend consulting the HTML representations of the objects you are working with."
   ]
  },
  {
   "cell_type": "markdown",
   "metadata": {
    "tags": []
   },
   "source": [
    "## Step 2: Plot the data\n",
    "\n",
    "Scipp objects (variables, data arrays, or datasets) can be plotted using the `plot()` method.\n",
    "Alternatively `sc.plot(obj)` can be used, e.g., when `obj` is a Python `dict` of scipp data arrays.\n",
    "Since this is neutron-scattering data, we can also use the \"instrument view\", provided by `scn.instrument_view(obj)` (assuming `scippneutron` was imported as `scn`).\n",
    "\n",
    "### Exercise\n",
    "\n",
    "- Plot the loaded data and familiarize yourself with the controls.\n",
    "- Create the instrument view and familiarize yourself with the controls.\n",
    "\n",
    "### Solution"
   ]
  },
  {
   "cell_type": "markdown",
   "metadata": {},
   "source": [
    "## Step 3: Exploring meta data\n",
    "\n",
    "Above we saw that many attributes are scalar variables with `dtype=DataArray`.\n",
    "The single value in a scalar variable is accessed using the `value` property.\n",
    "Compare:"
   ]
  },
  {
   "cell_type": "code",
   "execution_count": null,
   "metadata": {},
   "outputs": [],
   "source": [
    "data.attrs['proton_charge_by_period']"
   ]
  },
  {
   "cell_type": "code",
   "execution_count": null,
   "metadata": {},
   "outputs": [],
   "source": [
    "data.attrs['proton_charge_by_period'].value"
   ]
  },
  {
   "cell_type": "markdown",
   "metadata": {
    "tags": []
   },
   "source": [
    "### Exercise\n",
    "\n",
    "1. Find some attributes of `data` with `dtype=DataArray` and plot their `value`.\n",
    "   Also try `sc.table(attr.value)` to show a table representation (where `attr` is an attribute of your choice).\n",
    "2. Find and plot a monitor.\n",
    "3. Try to normalize `data` to monitor 1.\n",
    "   Why does this fail?\n",
    "4. Plot all the monitors on the same plot.\n",
    "   Note that `sc.plot()` can be used with a Python `dict` for this purpose: `sc.plot({'a':something, 'b':else})`.\n",
    "5. Convert all the monitors from `'tof'` to `'wavelength'` using, e.g., `mon1_wav = scn.convert(mon1, 'tof', 'wavelength', scatter=False)`.\n",
    "6. Inspect the HTML view and note how the \"unit conversion\" changed the dimensions and units.\n",
    "7. Re-plot all the monitors on the same plot, now in `'wavelength'`.\n",
    "\n",
    "### Solution"
   ]
  },
  {
   "cell_type": "markdown",
   "metadata": {
    "tags": []
   },
   "source": [
    "## Step 4: Fixing metadata\n",
    "\n",
    "### Exercise\n",
    "\n",
    "Consider the following (hypothetical) problems with the metadata stored in `data`:\n",
    "\n",
    "1. The `sample_position` coord (`data.coords['sample_position']`) is wrong, shift the sample by `delta = sc.vector(value=np.array([0.01,0.01,0.04]), unit='m')`.\n",
    "2. Because of a glitch in the timing system the time-of-flight has an offset of $2.3~\\mu s$.\n",
    "   Fix the corresponding coordinate.\n",
    "3. Use the HTML view of `data` to verify that you applied the corrections/calibrations there, rather than in a copy.\n",
    "\n",
    "### Solution"
   ]
  },
  {
   "cell_type": "markdown",
   "metadata": {},
   "source": [
    "## Step 5: A closer look at the data\n",
    "\n",
    "The 2-D plot we obtain above by default is often not very enlightening.\n",
    "Define:"
   ]
  },
  {
   "cell_type": "code",
   "execution_count": null,
   "metadata": {},
   "outputs": [],
   "source": [
    "counts = data.sum('tof')"
   ]
  },
  {
   "cell_type": "markdown",
   "metadata": {
    "tags": []
   },
   "source": [
    "### Exercise\n",
    "\n",
    "1. Create a plot of `counts` and also try the instrument view.\n",
    "2. How many counts are there in total, in all spectra combined?\n",
    "3. Plot a single spectrum of `data` as a 1-D plot using the slicing syntax `array[dim_name, integer_index]` to access the spectrum.\n",
    "\n",
    "### Solution"
   ]
  }
 ],
 "metadata": {
  "kernelspec": {
   "display_name": "Python 3 (ipykernel)",
   "language": "python",
   "name": "python3"
  },
  "language_info": {
   "codemirror_mode": {
    "name": "ipython",
    "version": 3
   },
   "file_extension": ".py",
   "mimetype": "text/x-python",
   "name": "python",
   "nbconvert_exporter": "python",
   "pygments_lexer": "ipython3",
   "version": "3.8.13"
  }
 },
 "nbformat": 4,
 "nbformat_minor": 4
}
