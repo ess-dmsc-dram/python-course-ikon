{
 "cells": [
  {
   "cell_type": "markdown",
   "metadata": {},
   "source": [
    "# Part 0: Scipp crash course\n",
    "\n",
    "## Getting help\n",
    "\n",
    "- Scipp documentation is available at https://scipp.github.io/\n",
    "- Join [#scipp](https://ess-eric.slack.com/archives/C01AAGCQEU8) in the ESS Slack workspace for updates, questions, and discussions."
   ]
  },
  {
   "cell_type": "code",
   "execution_count": null,
   "metadata": {},
   "outputs": [],
   "source": [
    "import scipp as sc\n",
    "import numpy as np"
   ]
  },
  {
   "cell_type": "markdown",
   "metadata": {},
   "source": [
    "## Using Jupyter\n",
    "\n",
    "- Press `shift-return` to run a cell and move to next cell\n",
    "- Press `ctrl-return` to run a cell, to keep focus on current cell\n",
    "- If things go wrong, `Kernel > Restart kernel and clear all outputs` is often helpful.\n",
    "- Jupyter will automatically display the last (and only the last) object typed in a cell"
   ]
  },
  {
   "cell_type": "code",
   "execution_count": null,
   "metadata": {},
   "outputs": [],
   "source": [
    "a = 5\n",
    "b = 4\n",
    "a\n",
    "b"
   ]
  },
  {
   "cell_type": "markdown",
   "metadata": {},
   "source": [
    "## Scipp crash course\n",
    "\n",
    "- `scipp` stores data in a **multi-dimensional array** with **labeled (named) dimensions**.\n",
    "  This is best imagined as `numpy` arrays, without the need to memorize and keep track of dimension order.\n",
    "- Each array is combined with a **physical unit** into a **variable**.\n",
    "- Variables are enhanced by **coordinates**.\n",
    "  Each coordinate is also a variable.\n",
    "  A variable with associated coordinates is called **data array**.\n",
    "- Multiple data arrays with aligned coordinates can be combined into a **dataset**.\n",
    "\n",
    "Consider a 2-D numpy array:"
   ]
  },
  {
   "cell_type": "code",
   "execution_count": null,
   "metadata": {},
   "outputs": [],
   "source": [
    "a = np.random.rand(2, 4)\n",
    "a"
   ]
  },
  {
   "cell_type": "markdown",
   "metadata": {},
   "source": [
    "Scipp variables enrich this with labelled dimensions and units, for clarity and safety.\n",
    "Variables can be created from numpy arrays using `sc.array`:"
   ]
  },
  {
   "cell_type": "code",
   "execution_count": null,
   "metadata": {},
   "outputs": [],
   "source": [
    "var = sc.array(dims=['time', 'location'], values=a, unit='K')\n",
    "var"
   ]
  },
  {
   "cell_type": "markdown",
   "metadata": {},
   "source": [
    "Dimension labels are used for many operations, the simplest example is \"slicing\" (or cropping):"
   ]
  },
  {
   "cell_type": "code",
   "execution_count": null,
   "metadata": {},
   "outputs": [],
   "source": [
    "var['location', 2:4]"
   ]
  },
  {
   "cell_type": "markdown",
   "metadata": {},
   "source": [
    "Data arrays are created from variables:"
   ]
  },
  {
   "cell_type": "code",
   "execution_count": null,
   "metadata": {},
   "outputs": [],
   "source": [
    "time = sc.array(dims=['time'], unit='m', values=[20, 30])\n",
    "location = sc.arange(dim='location', unit='m', start=0, stop=4)\n",
    "array = sc.DataArray(data=var, coords={'time': time, 'location': location})\n",
    "array"
   ]
  },
  {
   "cell_type": "markdown",
   "metadata": {},
   "source": [
    "Scalar variables are variables with zero dimensions.\n",
    "There are two ways to create these, using `sc.scalar`, or by multiplying a value by a scipp unit:"
   ]
  },
  {
   "cell_type": "code",
   "execution_count": null,
   "metadata": {},
   "outputs": [],
   "source": [
    "windspeed = sc.scalar(\n",
    "    1.2, unit='m/s')  # see help(sc.scalar) for additional arguments\n",
    "windspeed = 1.2 * sc.Unit('m/s')\n",
    "windspeed"
   ]
  },
  {
   "cell_type": "markdown",
   "metadata": {},
   "source": [
    "Data arrays also support **attributes** to store additional meta information:"
   ]
  },
  {
   "cell_type": "code",
   "execution_count": null,
   "metadata": {},
   "outputs": [],
   "source": [
    "array.attrs['windspeed'] = windspeed\n",
    "array"
   ]
  },
  {
   "cell_type": "markdown",
   "metadata": {},
   "source": [
    "Scipp's units protect against invalid additions and subtractions:"
   ]
  },
  {
   "cell_type": "code",
   "execution_count": null,
   "metadata": {},
   "outputs": [],
   "source": [
    "array += windspeed  # will raise an exception"
   ]
  },
  {
   "cell_type": "markdown",
   "metadata": {},
   "source": [
    "Data array coordinates protect against operations between incompatible data:"
   ]
  },
  {
   "cell_type": "code",
   "execution_count": null,
   "metadata": {},
   "outputs": [],
   "source": [
    "array['location', 0:2] + array['location', 2:4]  # will raise an exception"
   ]
  },
  {
   "cell_type": "code",
   "execution_count": null,
   "metadata": {},
   "outputs": [],
   "source": [
    "array['location', 0:2] - array.mean(\n",
    "    'location')  # ok, mean over location drops location coord"
   ]
  }
 ],
 "metadata": {
  "kernelspec": {
   "display_name": "Python 3 (ipykernel)",
   "language": "python",
   "name": "python3"
  },
  "language_info": {
   "codemirror_mode": {
    "name": "ipython",
    "version": 3
   },
   "file_extension": ".py",
   "mimetype": "text/x-python",
   "name": "python",
   "nbconvert_exporter": "python",
   "pygments_lexer": "ipython3",
   "version": "3.8.10"
  }
 },
 "nbformat": 4,
 "nbformat_minor": 4
}
