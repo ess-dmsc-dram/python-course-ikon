{
 "cells": [
  {
   "cell_type": "markdown",
   "metadata": {
    "slideshow": {
     "slide_type": "slide"
    }
   },
   "source": [
    "<div class=\"alert alert-block alert-warning\">\n",
    "<b>Disclaimer:</b> The main objective of this jupyter notebook is to show how to fit simple data by\n",
    "    \n",
    "- defining a fitting model\n",
    "- creating the reference data to which the model will be fitted to. In standard cases, this step should be replaced by loading your experimental data\n",
    "- setting and running the fit   \n",
    "- extracting and displaying information about the results\n",
    "\n",
    "The syntax to fit data is minimizer-dependent. Here we focus on a fitting routing provided by the `scipy` python package: <a href=\"https://docs.scipy.org/doc/scipy/reference/generated/scipy.optimize.curve_fit.html\">scipy.optimize.curve_fit</a>.   \n",
    "    \n",
    "Please also note that the initial guessed parameters might not be optimal, resulting in a poor fit of the reference data.\n",
    "</div>\n",
    "\n",
    "\n",
    "<a id='Table of Contents'></a><h1>Table of Contents</h1>\n",
    "\n",
    "- <a href='#imports'>Importing libraries</a>\n",
    "- <a href='#def_function'>Definition of the fitting model</a>\n",
    "- <a href='#anim_plot'>Plot of the fitting model</a>\n",
    "- <a href='#ref_data'>Creating reference data</a>\n",
    "- <a href='#fitting'>Setting and fitting</a>\n",
    "- <a href='#plot'>Displaying the results</a>  \n",
    "- <a href='#exercise'>Exercises</a>"
   ]
  },
  {
   "cell_type": "markdown",
   "metadata": {
    "slideshow": {
     "slide_type": "slide"
    }
   },
   "source": [
    "(<a href='#Table of Contents'>Top</a>)<a id='imports'></a><h2>Importing libraries</h2>\n",
    "\n",
    "Please refer to the notebooks about `numpy` and `matplotlib` for more details. "
   ]
  },
  {
   "cell_type": "code",
   "execution_count": null,
   "metadata": {
    "slideshow": {
     "slide_type": "fragment"
    }
   },
   "outputs": [],
   "source": [
    "# import python modules for plotting, fitting\n",
    "import numpy as np\n",
    "import matplotlib.pyplot as plt\n",
    "from scipy.optimize import curve_fit\n",
    "# for interactive widgets\n",
    "import ipywidgets as ipw"
   ]
  },
  {
   "cell_type": "code",
   "execution_count": null,
   "metadata": {},
   "outputs": [],
   "source": [
    "%matplotlib widget"
   ]
  },
  {
   "cell_type": "markdown",
   "metadata": {
    "slideshow": {
     "slide_type": "slide"
    }
   },
   "source": [
    "(<a href='#Table of Contents'>Top</a>)<a id='def_function'></a><h2>Definition of the fitting model</h2>\n",
    "\n",
    "Here we define a simple lorentzian function.  \n",
    "\n",
    "Please note that there are other options, such as importing [`lmfit.LorentzianModel`](https://lmfit.github.io/lmfit-py/builtin_models.html#lmfit.models.LorentzianModel),  [`QENSmodels.lorentzian`](https://github.com/QENSlibrary/QENSmodels/blob/master/QENSmodels/lorentzian.py) or [`pyspec.fitfuncs.lor`](https://pythonhosted.org/pyspec/fit.html)."
   ]
  },
  {
   "cell_type": "code",
   "execution_count": null,
   "metadata": {
    "slideshow": {
     "slide_type": "fragment"
    }
   },
   "outputs": [],
   "source": [
    "def lorentzian(xx, scale=1.0, center=1.0, hwhm=3.0):\n",
    "    if hwhm == 0:\n",
    "        raise ValueError('hwhm of the lorentzian is equal to zero.')\n",
    "    return scale * hwhm / ((xx-center)**2 + hwhm**2) / np.pi"
   ]
  },
  {
   "cell_type": "markdown",
   "metadata": {
    "slideshow": {
     "slide_type": "slide"
    }
   },
   "source": [
    "(<a href='#Table of Contents'>Top</a>)<a id='anim_plot'></a><h2>Plot of the fitting model</h2>\n",
    "\n",
    "The widget below shows how the variations of the lorentzian's parameters, *Scale*, *Center* and *FWHM*,  influence its shape."
   ]
  },
  {
   "cell_type": "code",
   "execution_count": null,
   "metadata": {
    "slideshow": {
     "slide_type": "fragment"
    }
   },
   "outputs": [],
   "source": [
    "# define values of the variable of the functions to be used in this tutorial\n",
    "xx = np.linspace(-10, 10, 500)\n",
    "\n",
    "initial_params = {\"scale\": 5.5,\n",
    "                  \"center\": 5.0,\n",
    "                  \"hwhm\": 3.0}\n",
    "\n",
    "fig1, ax1 = plt.subplots()\n",
    "lines = ax1.plot(xx, lorentzian(xx, *list(initial_params.values())))\n",
    "ax1.set_ylabel('lorentzian(x,{},{},{})'.format(*list(initial_params.values())))\n",
    "ax1.set_xlabel('x')\n",
    "ax1.grid()\n",
    "\n",
    "# define slider to interactively modify the parameters\n",
    "sliders = {key: ipw.FloatSlider(min=1.0, max=10.0, value=value, description=key)\n",
    "           for key, value in initial_params.items()}\n",
    "sliders[\"center\"].min = -sliders[\"center\"].max\n",
    "\n",
    "# define function to be plotted\n",
    "def interactive_plot(change):\n",
    "    params = [sliders[key].value for key in sliders]\n",
    "    lines[0].set_ydata(lorentzian(xx, *params))\n",
    "    ax1.set_ylabel('lorentzian(x,{},{},{})'.format(*params))\n",
    "\n",
    "# add observers to the sliders to update the plot\n",
    "for sl in sliders.values():\n",
    "    sl.observe(interactive_plot, names=\"value\")\n",
    "\n",
    "# Define function to reset all parameters' values to the initial ones\n",
    "def reset_values(b):\n",
    "    \"\"\"Reset the interactive plots to inital values.\"\"\"\n",
    "    for key, value in initial_params.items():\n",
    "        sliders[key].value = value\n",
    "\n",
    "# Define reset button and occurring action when clicking on it\n",
    "reset_button = ipw.Button(description = \"Reset\")\n",
    "reset_button.on_click(reset_values)\n",
    "\n",
    "# display the interactive plot\n",
    "display(ipw.VBox(list(sliders.values())), reset_button)"
   ]
  },
  {
   "cell_type": "markdown",
   "metadata": {
    "slideshow": {
     "slide_type": "slide"
    }
   },
   "source": [
    "(<a href='#Table of Contents'>Top</a>)<a id='ref_data'></a><h2>Creating reference data</h2>\n",
    "\n",
    "**Input:** the reference data for this simple example correspond to a Lorentzian with added noise."
   ]
  },
  {
   "cell_type": "code",
   "execution_count": null,
   "metadata": {
    "slideshow": {
     "slide_type": "fragment"
    }
   },
   "outputs": [],
   "source": [
    "# Creation of reference data\n",
    "# lorentzian with noise added as background and modulation in its amplitude\n",
    "added_noise = 0.5*np.random.normal(0, 1, 500)\n",
    "lorentzian_noisy = lorentzian(xx, 0.89, -0.025, 0.45)*(1. + 0.1*added_noise) + 0.01*added_noise\n",
    "\n",
    "# Display reference data\n",
    "fig2, ax2 = plt.subplots()\n",
    "lines = ax2.plot(xx, lorentzian_noisy, label='reference data')\n",
    "ax2.set_xlabel('x')\n",
    "ax2.grid()\n",
    "ax2.legend()"
   ]
  },
  {
   "cell_type": "markdown",
   "metadata": {
    "slideshow": {
     "slide_type": "slide"
    }
   },
   "source": [
    "(<a href='#Table of Contents'>Top</a>)<a id='fitting'></a><h2>Setting and fitting</h2>\n",
    "\n",
    "The fit is performed using `scipy.optimize.curve_fit`. <br> The example is based on implementations from https://docs.scipy.org/doc/scipy/reference/generated/scipy.optimize.curve_fit.html"
   ]
  },
  {
   "cell_type": "code",
   "execution_count": null,
   "metadata": {
    "slideshow": {
     "slide_type": "fragment"
    }
   },
   "outputs": [],
   "source": [
    "# define set of initial values for the parameters to be refined \n",
    "initial_parameters_values = [1, 0.2, 0.5]\n",
    "\n",
    "# plot initial model and reference data\n",
    "fig3, ax3 = plt.subplots()\n",
    "ax3.plot(xx, lorentzian_noisy, label='reference data')\n",
    "ax3.plot(xx, lorentzian(xx, *initial_parameters_values), '.', label='model with initial guess')\n",
    "ax3.set_xlabel('x')\n",
    "ax3.grid()\n",
    "ax3.legend()"
   ]
  },
  {
   "cell_type": "markdown",
   "metadata": {},
   "source": [
    "`scipy.optimize_curve_fit` offers the possibility of choosing the method for optimization. Here we are going exploit this option by providing a widget to select your method."
   ]
  },
  {
   "cell_type": "code",
   "execution_count": null,
   "metadata": {},
   "outputs": [],
   "source": [
    "chosen_method_optim = ipw.RadioButtons(\n",
    "    options=['lm', 'trf', 'dogbox'],\n",
    "    value='lm', # Defaults to 'lm'\n",
    "    description='Method for optimization',\n",
    "    style={'description_width': 'initial'},\n",
    "    disabled=False\n",
    ")\n",
    "\n",
    "chosen_method_optim"
   ]
  },
  {
   "cell_type": "code",
   "execution_count": null,
   "metadata": {},
   "outputs": [],
   "source": [
    "# perform fit\n",
    "params, params_covariance = curve_fit(lorentzian, xx, lorentzian_noisy,\n",
    "                                      method=chosen_method_optim.value,\n",
    "                                      p0=initial_parameters_values)"
   ]
  },
  {
   "cell_type": "markdown",
   "metadata": {
    "slideshow": {
     "slide_type": "slide"
    }
   },
   "source": [
    "(<a href='#Table of Contents'>Top</a>)<a id='plot'></a><h2>Displaying the results</h2>"
   ]
  },
  {
   "cell_type": "code",
   "execution_count": null,
   "metadata": {
    "scrolled": true,
    "slideshow": {
     "slide_type": "fragment"
    }
   },
   "outputs": [],
   "source": [
    "# Calculation of the errors on the refined parameters:\n",
    "params_error = np.sqrt(np.diag(params_covariance))\n",
    "\n",
    "print('Values of refined parameters:')\n",
    "print('scale:', params[0],'+/-', params_error[0])\n",
    "print('center :', params[1],'+/-', params_error[1])\n",
    "print('HWHM', params[2],'+/-', params_error[2])"
   ]
  },
  {
   "cell_type": "code",
   "execution_count": null,
   "metadata": {
    "slideshow": {
     "slide_type": "subslide"
    }
   },
   "outputs": [],
   "source": [
    "# Comparison of reference data with fitting result\n",
    "fig4 = plt.figure()\n",
    "gs = fig4.add_gridspec(3, 1)\n",
    "f4_ax1 = fig4.add_subplot(gs[0:2, :])\n",
    "f4_ax2 = fig4.add_subplot(gs[2, :])\n",
    "\n",
    "f4_ax1.plot(xx, lorentzian_noisy, label='reference data')\n",
    "f4_ax1.plot(xx, lorentzian(xx, *params), '--', label='fit: %5.3f, %5.3f, %5.3f' % tuple(params))\n",
    "f4_ax2.plot(xx, lorentzian_noisy - lorentzian(xx, *params), label='residuals')\n",
    "f4_ax1.set_xlabel('x')\n",
    "f4_ax1.grid()\n",
    "f4_ax1.legend()\n",
    "f4_ax2.set_xlabel('x')\n",
    "f4_ax2.grid()\n",
    "f4_ax2.legend()"
   ]
  },
  {
   "cell_type": "markdown",
   "metadata": {},
   "source": [
    "(<a href='#Table of Contents'>Top</a>)<a id='exercise'></a><h2>Exercise</h2>\n",
    "This exercise uses the same procedure as above but with slightly different data.  \n",
    "The objective is to determine the new fitting results.  \n",
    "\n",
    "**(1)** Determine the initial guesses for the amplitude, center and width, *Scale*, *Center* and *FWHM* to fit the following data based on a Lorentzian profile with added noise by running the cell below and using the generated widget."
   ]
  },
  {
   "cell_type": "code",
   "execution_count": null,
   "metadata": {},
   "outputs": [],
   "source": [
    "# Define the new data\n",
    "new_data = lorentzian(xx, 3, 4, 0.5) * (\n",
    "    1. + 0.1*np.random.normal(0,1,500)) + 0.01*np.random.normal(0,1,500)\n",
    "\n",
    "initial_params = {\"scale\": 5.5,\n",
    "                  \"center\": 1.0,\n",
    "                  \"hwhm\": 2.5}\n",
    "\n",
    "fig5, ax5 = plt.subplots()\n",
    "ax5.plot(xx, new_data, label=\"reference data for exercise\")\n",
    "lines = ax5.plot(xx, lorentzian(xx, *list(initial_params.values())))\n",
    "ax5.set_ylabel('lorentzian(x,{},{},{})'.format(*list(initial_params.values())))\n",
    "ax5.set_xlabel('x')\n",
    "ax5.grid()\n",
    "ax5.legend()\n",
    "\n",
    "# define slider to interactively modify the parameters\n",
    "sliders = {key: ipw.FloatSlider(min=0.1, max=10.0, value=value, description=key)\n",
    "           for key, value in initial_params.items()}\n",
    "sliders[\"center\"].min = -sliders[\"center\"].max\n",
    "\n",
    "# define function to be plotted\n",
    "def interactive_plot(change):\n",
    "    params = [sliders[key].value for key in sliders]\n",
    "    lines[0].set_ydata(lorentzian(xx, *params))\n",
    "    ax1.set_ylabel('lorentzian(x,{},{},{})'.format(*params))\n",
    "#     fig1.canvas.draw_idle()\n",
    "# add observers to the sliders to update the plot\n",
    "for sl in sliders.values():\n",
    "    sl.observe(interactive_plot, names=\"value\")\n",
    "\n",
    "# Define function to reset all parameters' values to the initial ones\n",
    "def reset_values(b):\n",
    "    \"\"\"Reset the interactive plots to inital values.\"\"\"\n",
    "    for key, value in initial_params.items():\n",
    "        sliders[key].value = value\n",
    "\n",
    "# Define reset button and occurring action when clicking on it\n",
    "reset_button = ipw.Button(description = \"Reset\")\n",
    "reset_button.on_click(reset_values)\n",
    "\n",
    "# display the interactive plot\n",
    "display(ipw.VBox(list(sliders.values())), reset_button)"
   ]
  },
  {
   "cell_type": "markdown",
   "metadata": {},
   "source": [
    "**(2)** Running the following cells will:\n",
    "- assign the values you determined just above to your model\n",
    "- plot the initial model and the experimental data\n",
    "- run the fit"
   ]
  },
  {
   "cell_type": "code",
   "execution_count": null,
   "metadata": {},
   "outputs": [],
   "source": [
    "initial_parameters_new_data = [sl.value for sl in sliders.values()]\n",
    "initial_parameters_new_data"
   ]
  },
  {
   "cell_type": "markdown",
   "metadata": {},
   "source": [
    "The syntax above uses list comprehensions (as described in another tutorial). Options for such inputs are:\n",
    "- list comprehension\n",
    "```python\n",
    "x = [i for i in range(10)]```\n",
    "- with a standard `for` loop:\n",
    "```python\n",
    "x = []\n",
    "for i in range(10):\n",
    "    x[i] = i\n",
    "```\n",
    "- entered by hand\n",
    "```python \n",
    "x = [0, 1, 2, 3, 4, 5, 6, 7, 8, 9]```"
   ]
  },
  {
   "cell_type": "code",
   "execution_count": null,
   "metadata": {},
   "outputs": [],
   "source": [
    "fig6, ax6 = plt.subplots()\n",
    "ax6.plot(xx, new_data, label=\"reference data for exercise\")\n",
    "ax6.plot(xx, lorentzian(xx, *initial_parameters_new_data), '.', label='model with initial guesses')\n",
    "ax6.set_ylabel('lorentzian(x,{},{},{})'.format(*list(initial_params.values())))\n",
    "ax6.set_title(\"Exercise: plot before fit\")\n",
    "ax6.set_xlabel('x')\n",
    "ax6.grid()\n",
    "ax6.legend()"
   ]
  },
  {
   "cell_type": "markdown",
   "metadata": {},
   "source": [
    "Now run the fit"
   ]
  },
  {
   "cell_type": "code",
   "execution_count": null,
   "metadata": {},
   "outputs": [],
   "source": [
    "params_new, pcov_new = curve_fit(lorentzian, xx, new_data, \n",
    "                                 p0=initial_parameters_new_data)"
   ]
  },
  {
   "cell_type": "markdown",
   "metadata": {},
   "source": [
    "**(3)** Display the final values of the refined parameters"
   ]
  },
  {
   "cell_type": "code",
   "execution_count": null,
   "metadata": {
    "scrolled": true
   },
   "outputs": [],
   "source": [
    "print('Values of refined parameters:')\n",
    "print('scale:', params_new[0])\n",
    "print('center :', params_new[1])\n",
    "print('HWHM', params_new[2])\n",
    "print('to be compared to 3, 4, 0.5')"
   ]
  },
  {
   "cell_type": "markdown",
   "metadata": {},
   "source": [
    "**(4)** Plot the reference data and the model  \n",
    "\n",
    "In the code below, replace:    \n",
    " - `{A}` with name of reference data  \n",
    " - `{B}` with name of list of values of fitted parameters \n",
    "\n",
    "Refer to the <a href='#plot'>first example</a> for help"
   ]
  },
  {
   "cell_type": "code",
   "execution_count": null,
   "metadata": {},
   "outputs": [],
   "source": [
    "fig7 = plt.figure()\n",
    "gs = fig7.add_gridspec(3, 1)\n",
    "f7_ax1 = fig7.add_subplot(gs[0:2, :])\n",
    "f7_ax2 = fig7.add_subplot(gs[2, :])\n",
    "\n",
    "f7_ax1.plot(xx, {A}, label='reference data for exercise')\n",
    "f7_ax1.plot(xx, lorentzian(xx, *{B}), '--', label='fit: %5.3f, %5.3f, %5.3f' % tuple({B}))\n",
    "f7_ax2.plot(xx, {A} - lorentzian(xx, *{B}), label='residuals')\n",
    "f7_ax1.set_xlabel('x')\n",
    "f7_ax1.grid()\n",
    "f7_ax1.legend()\n",
    "f7_ax2.set_xlabel('x')\n",
    "f7_ax2.grid()\n",
    "f7_ax2.legend()"
   ]
  },
  {
   "cell_type": "markdown",
   "metadata": {},
   "source": [
    "**(5) Bonus: putting it all together!**\n",
    "\n",
    "Try to gather everything we've done above under a single interface:\n",
    "- an interactive plot that shows raw-data, initial guess and fit residuals\n",
    "- a `RadioButton` widget to choose fit optimization method\n",
    "- a `Button` which, when clicked, runs the fit and updates the fitted curve and residuals in the figure"
   ]
  },
  {
   "cell_type": "markdown",
   "metadata": {},
   "source": [
    "# Additional references\n",
    "Other fitting packages could be used. For example,\n",
    "- [bumps](https://bumps.readthedocs.io/en/latest/)\n",
    "- [lmfit](https://lmfit.github.io/lmfit-py/)\n",
    "\n",
    "For further details about `ipywidgets`, please refer to the following [link](https://ipywidgets.readthedocs.io/en/latest/index.html)."
   ]
  },
  {
   "cell_type": "code",
   "execution_count": null,
   "metadata": {},
   "outputs": [],
   "source": []
  }
 ],
 "metadata": {
  "hide_input": false,
  "kernelspec": {
   "display_name": "Python 3 (ipykernel)",
   "language": "python",
   "name": "python3"
  },
  "language_info": {
   "codemirror_mode": {
    "name": "ipython",
    "version": 3
   },
   "file_extension": ".py",
   "mimetype": "text/x-python",
   "name": "python",
   "nbconvert_exporter": "python",
   "pygments_lexer": "ipython3",
   "version": "3.9.7"
  },
  "livereveal": {
   "scroll": true
  },
  "toc": {
   "base_numbering": 1,
   "nav_menu": {},
   "number_sections": true,
   "sideBar": true,
   "skip_h1_title": false,
   "title_cell": "Table of Contents",
   "title_sidebar": "Contents",
   "toc_cell": false,
   "toc_position": {},
   "toc_section_display": true,
   "toc_window_display": false
  },
  "varInspector": {
   "cols": {
    "lenName": 16,
    "lenType": 16,
    "lenVar": 40
   },
   "kernels_config": {
    "python": {
     "delete_cmd_postfix": "",
     "delete_cmd_prefix": "del ",
     "library": "var_list.py",
     "varRefreshCmd": "print(var_dic_list())"
    },
    "r": {
     "delete_cmd_postfix": ") ",
     "delete_cmd_prefix": "rm(",
     "library": "var_list.r",
     "varRefreshCmd": "cat(var_dic_list()) "
    }
   },
   "types_to_exclude": [
    "module",
    "function",
    "builtin_function_or_method",
    "instance",
    "_Feature"
   ],
   "window_display": false
  }
 },
 "nbformat": 4,
 "nbformat_minor": 4
}
