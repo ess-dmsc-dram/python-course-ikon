{
 "cells": [
  {
   "cell_type": "code",
   "execution_count": 4,
   "id": "least-substance",
   "metadata": {},
   "outputs": [
    {
     "name": "stderr",
     "output_type": "stream",
     "text": [
      "Workspace run log 'good_frames' has unrecognised units: 'frames'\n",
      "Workspace run log 'raw_frames' has unrecognised units: 'frames'\n"
     ]
    },
    {
     "name": "stdout",
     "output_type": "stream",
     "text": [
      "Writing with dtype=PyObject not implemented, skipping.\n"
     ]
    }
   ],
   "source": [
    "import numpy as np\n",
    "import scipp as sc\n",
    "import scippneutron as scn\n",
    "import urllib.request\n",
    "url = 'https://github.com/ess-dmsc-dram/loki_tube_scripts/raw/master/test/test_data/LARMOR00049338.nxs'\n",
    "filename, _ = urllib.request.urlretrieve(url)\n",
    "data = scn.load(filename=filename)\n",
    "edges = sc.array(dims=['tof'], unit='us', values=np.linspace(5.0, 100000.0, num=201))\n",
    "data = sc.rebin(data, 'tof', edges)\n",
    "for i in [1,2,3,4,5]:\n",
    "    mon = data.attrs[f'monitor{i}']\n",
    "    mon.value = sc.rebin(mon.value, 'tof', edges)\n",
    "data.to_hdf5(filename='loki-at-larmor.hdf5')"
   ]
  },
  {
   "cell_type": "code",
   "execution_count": null,
   "id": "71896365-76be-426d-986f-7aeffd8d3acb",
   "metadata": {},
   "outputs": [],
   "source": []
  }
 ],
 "metadata": {
  "kernelspec": {
   "display_name": "Python 3 (ipykernel)",
   "language": "python",
   "name": "python3"
  },
  "language_info": {
   "codemirror_mode": {
    "name": "ipython",
    "version": 3
   },
   "file_extension": ".py",
   "mimetype": "text/x-python",
   "name": "python",
   "nbconvert_exporter": "python",
   "pygments_lexer": "ipython3",
   "version": "3.8.10"
  }
 },
 "nbformat": 4,
 "nbformat_minor": 5
}
