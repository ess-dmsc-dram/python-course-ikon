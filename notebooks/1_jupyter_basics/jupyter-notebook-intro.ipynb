{
 "cells": [
  {
   "cell_type": "markdown",
   "metadata": {},
   "source": [
    "<div class=\"alert alert-block alert-warning\">\n",
    "<b>Disclaimer:</b> The objective of this notebook is to introduce Project Jupyter and then give a short introduction about its functionalities.\n",
    "</div>"
   ]
  },
  {
   "cell_type": "markdown",
   "metadata": {},
   "source": [
    "# What is the Jupyter project?\n",
    "\n",
    "<img src=\"../../docs/images/jupyter-logo.svg\" alt=\"JupyterLogo\" style=\"width: 200px;\"/>\n",
    "\n",
    "## History \n",
    "Project *Jupyter* is a non-profit, open-source project, born out of the *IPython* Project in 2014 as it evolved to support interactive data science and scientific computing across many programming languages.\n",
    "\n",
    "*Jupyter* is an acronym for **Ju**lia, **Pyt**hon, and **R**. These three languages were the first target languages of the *Jupyter* application, but nowadays, the notebook technology also support many other languages (C, C#, C++, Scala, Ruby, Perl, Javascript, Fortran,...).\n",
    "\n",
    "*Jupyter* allows users to create and share documents that contain live code, equations, visualizations and narrative text.\n",
    "\n",
    "**References**  \n",
    "- https://jupyter.org\n",
    "- https://www.nature.com/articles/d41586-018-07196-1\n",
    "- https://opencredo.com/blogs/writing-a-custom-jupyterhub-spawner/\n",
    "\n",
    "## What are Jupyter hub, lab notebook app and notebook document? \n",
    "\n",
    "### JupyterHub\n",
    "From https://jupyter.org/hub\n",
    "> *JupyterHub* brings the power of notebooks to groups of users. It gives them access to computational environments and resources without burdening with installation and maintenance tasks. Users can get their work done in their own workspaces on shared resources which can be managed efficiently by system administrators. *JupyterHub* runs in the cloud or on users' own hardware, and makes it possible to serve a pre-configured data science environment to any user in the world. It is customizable and scalable, and is suitable for small and large teams, academic courses, and large-scale infrastructure. \n",
    "\n",
    "### JupyterLab\n",
    "<div>\n",
    "<img src=\"../../docs/images/launcher_jupyterlab.png\" alt=\"JupyterLabLauncher\" style=\"width: 500px;\"/>\n",
    "<div style=\"text-align:center\"> <span style=\"font-style:italic; font-size:1em;\"> JupterLab launcher </span></div>\n",
    "</div>\n",
    "\n",
    "*Jupyterlab* is the next-generation web interface for the project *Jupyter*. It offers all the building blocks of the *Jupyter Notebook*, with additional drag-and-drop functionality, file browsers, data viewers, text editors and a command console. Users can arrange multiple documents and activities side by side in the work area using tabs and splitters. Documents and activities integrate with each other, enabling new workflows for interactive computing. *JupyterLab* will eventually replace the classic *Jupyter Notebook App*.\n",
    "\n",
    "<div>\n",
    "<img src=\"../../docs/images/running_jupyterlab.png\" alt=\"JupyterLab\" style=\"width: 500px;\"/>\n",
    "<div style=\"text-align:center\"> <span style=\"font-style:italic; font-size:1em;\"> Example of layout of JupterLab showing a terminal, a running jupyter notebook, a rendered markdown file and the file browser.</span></div>\n",
    "</div>\n",
    "\n",
    "**References:**  \n",
    "- https://github.com/jupyterlab/jupyterlab\n",
    "\n",
    "- https://jupyterlab.readthedocs.io/en/latest/\n",
    "\n",
    "### Jupyter Notebook App\n",
    "A *Jupyter Notebook App* is a web-based interactive development environment for creating notebook documents.\n",
    "\n",
    "### Jupyter Notebook document\n",
    "A *Jupyter Notebook* document consists of a list of input and output ordered cells that can contain computer code, [Markdown text](https://en.wikipedia.org/wiki/Markdown), mathematical expressions, plots, figures, links,... It is a [JavaScript Object Notation](https://en.wikipedia.org/wiki/JSON) (JSON) document. Its standard extension is `.ipynb`; but it can be converted to different formats such as `html`, slides, `pdf` or `Python` script.\n",
    "\n",
    "**Reference:** https://jupyter-notebook.readthedocs.io/en/stable/\n",
    "\n",
    "#### Kernels \n",
    "*Jupyter* supports over 40 programming languages including Python, Julia, R, C. \n",
    "\n",
    "*Notebook kernels* are processes that run interactive code in a particular programming language and return output to the user. \n",
    "\n",
    "Opening a *Jupyter Notebook* document automatically launches the associated kernel. When executing the notebook either cell-by-cell or in its entirety, this kernel performs the computation and produces the results, which are displayed in the output cells of the *Jupyter Notebook* document. \n",
    "\n",
    "[TryJupyter](https://jupyter.org/try) to try in your browser without any required installation.\n",
    "\n",
    "**Reference:** https://jupyter-notebook-beginner-guide.readthedocs.io/en/latest/what_is_jupyter.html\n",
    "\n",
    "# Short introduction about Jupyter notebook\n",
    "\n",
    "## Jupyter dashboard\n",
    "The dashboard displays the folders and notebooks in the current directory and allows users to launch or create *Jupyter* notebooks in any subfolders. \n",
    "\n",
    "<div>\n",
    "<img src=\"../../docs/images/jupyter-dashboard.png\" alt=\"JupyterDashboard\" style=\"width: 500px;\"/>\n",
    "<div style=\"text-align:center\"> <span style=\"font-style:italic; font-size:1em;\"> Example of Jupyter dashboard.</span></div>\n",
    "</div>\n",
    "\n",
    "### Exercises\n",
    "#### Exercise 1\n",
    "- Create a new folder by clicking on `New` (upper right corner)\n",
    "\n",
    "<img src=\"../../docs/images/jupyter-dashboard-new.png\" alt=\"CreateNewFromDashboard\" style=\"width: 500px;\"/>\n",
    "\n",
    "- Rename the folder 'MyNewFolder'.  \n",
    "To do so, click in the checkbox next to the directory name and choose `Rename`. A new window will open in which you can type the new name of the directory. You can use this same process to rename any folder.\n",
    "- Remove this newly created folder.  \n",
    "In this case, make sure that the checkbox next to your folder is still ticked, click on the 'Trash bin' button and confirm the deletion.\n",
    "\n",
    "#### Exercise 2\n",
    "- Create a new notebook by clicking the `New` dropdown (upper right corner) and select `Python 3` as kernel.\n",
    "\n",
    "<img src=\"../../docs/images/jupyter-dashboard-new.png\" alt=\"CreateNewFromDashboard\" style=\"width: 500px;\"/>\n",
    "\n",
    "- You should get a new tab in your browser, which looks like the figure below\n",
    "\n",
    "<img src=\"../../docs/images/jupyter-notebook-green-code-cell.png\" alt=\"NotebookGreenCodeCell\" style=\"width: 500px;\"/>\n",
    "\n",
    "- Rename it 'MyNewNotebook' by clicking on the 'Untitled' at the top of the page.\n",
    "\n",
    "<img src=\"../../docs/images/rename_jupyter_notebook.png\" alt=\"RenameNotebook\" style=\"width: 500px;\"/>\n",
    "\n",
    "- Go back to the dashboard (clicking on the `Home` tab, *i.e.* the previously open tab in your browser) and check that your notebook is in the displayed list with a green icon (showing that it is running).\n",
    "\n",
    "- To close the notebook, check that the checkbox is ticked and click on `Shutdown` in the top left set of icons as show below\n",
    "\n",
    "<div>\n",
    "<img src=\"../../docs/images/jupyter-dashboard-shutdown.png\" alt=\"ShutdownNotebook\" style=\"width: 500px;\"/>\n",
    "<div style=\"text-align:center\"> <span style=\"font-style:italic; font-size:1em;\"> How to close a notebook: select the notebook you want to close by ticking the checkbox next to it and then click on the `Shutdown` button.</span></div>\n",
    "</div>\n",
    "\n",
    "#### Note\n",
    "The material used during this half-day training is composed of different notebooks stored in the `python-ikon-course/notebooks` folder.\n",
    "\n",
    "**References**\n",
    "- [Python for Data Science Cheat Sheet - Jupyter notebook](https://datacamp-community-prod.s3.amazonaws.com/48093c40-5303-45f4-bbf9-0c96c0133c40)\n",
    "\n",
    "- [Jupyter notebook cheat sheet from edureka!](https://www.edureka.co/blog/wp-content/uploads/2018/10/Jupyter_Notebook_CheatSheet_Edureka.pdf)"
   ]
  },
  {
   "cell_type": "markdown",
   "metadata": {},
   "source": [
    "## Jupyter notebook\n",
    "### Menu bar and toolbar\n",
    "<div>\n",
    "<img src=\"../../docs/images/jupyter_notebook_toolbar_annotations.png\" alt=\"NotebookToolbarAnnotations\" style=\"width: 600px;\"/>\n",
    "<div style=\"text-align:center\"> <span style=\"font-style:italic; font-size:1em;\"> Menubar, toolbar and additional buttons and dropdowns related to installed notebook extensions \"nbextensions\", such as spellchecker,opening the command panel... </span></div>\n",
    "</div>\n",
    "\n",
    "The menu bar presents different options that may be used to manipulate how the notebook functions. For example, from `Kernel`, you can interrupt, change or restart the kernel with the option of clearing the cells' output.  \n",
    "The toolbar gives a quick access to the most-used operations by clicking on an icon. Among these operations, one can save, add or remove a cell, change between code cell and a markdown cell, or run a cell."
   ]
  },
  {
   "cell_type": "markdown",
   "metadata": {},
   "source": [
    "### Cells\n",
    "#### Types of cells\n",
    "The content of the notebook is a linear sequence of cells, where users can write code or text on mutiple lines. The content of each cell can be executed using `<shift>+<enter>` or by clicking on the `Play` button of the toolbar. \n",
    "\n",
    "#### Modal editor\n",
    "Depending on which mode the Notebook is in, typing on the keyboard can have different outcomes. There are two possible modes:\n",
    "- **Edit mode**  \n",
    "The *Edit mode* is indicated by a green cell border and a prompt in the cell allowing you to type in.\n",
    "\n",
    "<img src=\"../../docs/images/jupyter-notebook-green-code-cell.png\" alt=\"NotebookGreenCodeCell\" style=\"width: 600px;\"/>\n",
    "\n",
    "To enter the *Edit mode*, press `<enter>` or click on the cell you want to edit.\n",
    "\n",
    "- **Command mode**  \n",
    "The *Command mode* is indicated by a grey cell border with a blue left margin\n",
    "\n",
    "<img src=\"../../docs/images/jupyter-notebook-blue-code-cell.png\" alt=\"NotebookGreenCodeCell\" style=\"width: 600px;\"/>\n",
    "\n",
    "In the *Command mode*,  \n",
    "- you can edit the notebook as a whole, but you cannot type into individual cells.  \n",
    "- the keyboard is mapped to a set of shortcuts that let you perform notebook and cell actions efficiently. For example, if you are in command mode and you press `l`, you will display the line numbers in the current cell - no modifier is needed. The list of defined \"Keyboard shortcuts\" can be accessed by clicking on the `Help` dropdown of the menu bar.\n",
    "\n",
    "Note that trying to type into a cell when in the *Command mode* might result in unexpected things to happen. \n",
    "\n",
    "To enter the *Command mode*, press `<esc>` or click outside a cell’s editor area. Pressing `<control>+<enter>` will run the current cell and also enter the *Command mode*.\n",
    "\n",
    "#### Running the cells\n",
    "To run a cell, use `<shift>+<enter>` or press the `Play` button in the toolbar.\n",
    "The output depends on the cell type:\n",
    "- a markdown cell is rendered\n",
    "- for a code cell, its content is sent to the associated kernel and the result of the computation is displayed below the input cell, which is marked with '[\\*]' indicating that the kernel is running and then with '[$n$]', $n$ being a number indicating that this cell is the $n^{th}$ code cell to be run as shown below:\n",
    "\n",
    "<img src=\"../../docs/images/jupyter-notebook-executed-cells.png\" alt=\"NotebookExecutedCells\" style=\"width: 600px;\"/>\n",
    "  \n",
    "**Exercise**\n",
    "- Try typing something like `print(\"Hello World\")` into the cell below (it should be a *Code* cell).  \n",
    "- To run the code in the cell and see the output, click the Run button (`Play` icon) on the toolbar, or press `<shift>+<enter>`:"
   ]
  },
  {
   "cell_type": "code",
   "execution_count": null,
   "metadata": {},
   "outputs": [],
   "source": [
    "# -- YOUR CODE BELOW --\n"
   ]
  },
  {
   "cell_type": "markdown",
   "metadata": {},
   "source": [
    "#### Saving your Notebook\n",
    "Once you start editing your Notebook, it is best practice to save it regularly. Pressing `<ctrl> + S` or `<command> + S` will save your notebook by calling the \"Save and Checkpoint\" command (from the `File` dropdown in the menu bar).\n",
    "\n",
    "**Note:** What is a checkpoint?  \n",
    "From https://www.codecademy.com/articles/how-to-use-jupyter-notebooks\n",
    "> Every time you create a new notebook, a checkpoint file is created as well as your notebook file; it will be located within a hidden subdirectory of your save location called .ipynb_checkpoints and is also a .ipynb file. By default, *Jupyter* will autosave your notebook every 120 seconds to this checkpoint file without altering your primary notebook file. When you \"Save and Checkpoint,\" both the notebook and checkpoint files are updated. Hence, the checkpoint enables you to recover your unsaved work in the event of an unexpected issue. You can revert to the checkpoint from the menu via \"File > Revert to Checkpoint.\"\n",
    "\n",
    "#### Closing your Notebook\n",
    "As mentioned above, when a notebook is opened, its kernel is automatically started. Closing the notebook browser tab will not shut down the kernel.\n",
    "\n",
    "To shut down the notebook and its kernel, from the menu bar of the notebook, click on  `File` and select `Close and Halt`. Another option is, from the Notebook Dashboard, to select the *Running* notebook you want to close and then click on the `Shutdown` button.\n",
    "\n",
    "#### Downloading your Notebook\n",
    "If you want to run the Notebook you created on your own system or if you want to convert it to another format (`Python` script, `.pdf`...), it can be downloaded and converted using, from the `File` dropdown, `Downloads as`."
   ]
  },
  {
   "cell_type": "markdown",
   "metadata": {},
   "source": [
    "### Short tutorial about Markdown\n",
    "Below are a few examples of what can be done in Markdown.\n",
    "\n",
    "**References**  \n",
    "- https://www.markdowntutorial.com/ \n",
    "- https://guides.github.com/features/mastering-markdown/\n",
    "\n",
    "#### Fonts\n",
    "You can write text in *italic*, **bold**.  \n",
    "\n",
    "Here is a blockquote:\n",
    "\n",
    "> This is a quote.  \n",
    "  It can be on several lines.\n",
    "\n",
    "##### LaTeX equations\n",
    "LaTeX equations can be written in Markdown cells, such as\n",
    "\n",
    "$$\\psi_f(s)=\\sum_{n=0}^{\\infty}\\frac{1}{n^s} \\qquad \\beta(t)=\\prod_p\\frac{1}{\\alpha - p^{-t}} \\qquad I=\\int_0^{\\pi}\\sin^2(\\omega t)$$\n",
    "\n",
    "$$\\begin{equation*}\n",
    "\\mathbf{V}_1 \\times \\mathbf{V}_2 =  \\begin{vmatrix}\n",
    "\\mathbf{i} & \\mathbf{j} & \\mathbf{k} \\\\\n",
    "\\frac{\\partial X}{\\partial u} &  \\frac{\\partial Y}{\\partial u} & 0 \\\\\n",
    "\\frac{\\partial X}{\\partial v} &  \\frac{\\partial Y}{\\partial v} & 0\n",
    "\\end{vmatrix}\n",
    "\\end{equation*} $$\n",
    "\n",
    "*Maxwell's equations*\n",
    "\n",
    "$$\\begin{align}\n",
    "\\nabla \\times \\vec{\\mathbf{B}} -\\, \\frac1c\\, \\frac{\\partial\\vec{\\mathbf{E}}}{\\partial t} & = \\frac{4\\pi}{c}\\vec{\\mathbf{j}} \\\\   \\nabla \\cdot \\vec{\\mathbf{E}} & = 4 \\pi \\rho \\\\\n",
    "\\nabla \\times \\vec{\\mathbf{E}}\\, +\\, \\frac1c\\, \\frac{\\partial\\vec{\\mathbf{B}}}{\\partial t} & = \\vec{\\mathbf{0}} \\\\\n",
    "\\nabla \\cdot \\vec{\\mathbf{B}} & = 0\n",
    "\\end{align} $$\n",
    "\n",
    "##### Embedded code\n",
    "Code can also be written in markdown using specific languages' highlighting. For example, using the Python syntax:\n",
    "\n",
    "```python\n",
    "print('bar')\n",
    "```\n",
    "\n",
    "##### Colors\n",
    "We can write text in different colors, for example, <font color='red'>red</font>, <font color='blue'>blue</font>... \n",
    "\n",
    "#### Layout\n",
    "You can add horizontal rules:\n",
    "\n",
    "---\n",
    "\n",
    "##### Headings\n",
    "Examples of the hierarchy of headings:\n",
    "\n",
    "---\n",
    "\n",
    "# Header 1\n",
    "## Header 2\n",
    "### Header 3 \n",
    "#### Header 4 ####\n",
    "##### Header 5 #####\n",
    "###### Header 6 ######\n",
    "\n",
    "---\n",
    "\n",
    "#### Lists\n",
    "You can build nested itemized or enumerated lists:\n",
    "\n",
    "* First element of list\n",
    "    - Sublist item1\n",
    "        - Subsublist\n",
    "    - Sublist item2\n",
    "        - Subsublist item1\n",
    "        - Subsublist item2\n",
    "* Second element of list\n",
    "  - Sublist\n",
    "* Third element of list\n",
    "  - Sublist\n",
    "\n",
    "Now another list:\n",
    "\n",
    "1. First element of enumerated list\n",
    "    1. Example of embedded enumerated list\n",
    "    2. Second iem of this enumerated sublist\n",
    "2. Second element of enumerated list\n",
    "3. Third element of enumerated list\n",
    "\n",
    "#### Links\n",
    "You can also add links:\n",
    "\n",
    "[Jupyter website](https://jupyter.org)\n",
    "\n",
    "#### Tables     \n",
    "You can create tables very easily\n",
    "\n",
    "| Header    | in first    | row       |\n",
    "| :---      |   :----:    |      ---: |\n",
    "| left      | centered    | right     |\n",
    "| aligned   | text        | aligned   |\n",
    "\n",
    "Not even aligning the borders and you can modify the font style with stars double stars or quotes\n",
    "\n",
    "Markdown | Less | Pretty\n",
    "--- | --- | ---\n",
    "*Still* | `renders` | **nicely**\n",
    "1 | 2 | 3\n",
    "\n",
    "#### Magic commands\n",
    "Magic commands are enhancements that `IPython` offers compared to the standard Python shell. These magic commands act as convenient functions where `Python` syntax is not the most natural one. In other words, you can run code in different languages in different cells within your notebook.\n",
    "\n",
    "##### Types of magic commands\n",
    "- **Line magics**  \n",
    "They use input on the same line. They start with **%** character.\n",
    "- **Cell magics**  \n",
    "They start with **%%** characters. They can operate on multiline inputs.  \n",
    "\n",
    "*Examples:*  \n",
    "- `%lsmagic`: list all magic commands\n",
    "- `%history`: display previous inputs at once\n",
    "- `%run`: run external code  \n",
    "For example\n",
    "```python\n",
    "# the following command will execute and show the output from all code cells of the specified notebook\n",
    "%run ./plotting-with-matplotlib.ipynb\n",
    "```\n",
    "- `%who`: list all variables of global scope.\n",
    "```python\n",
    "%who str\n",
    "```\n",
    "\n",
    "- `%matplotline inline` to show matplotlib plots inline the notebook\n",
    "- `%%writefile` magic saves the contents of that cell to an external file. \n",
    "- `%pycat` does the opposite, and shows you (in a popup) the syntax highlighted contents of an external file.\n",
    "\n",
    "*Example:* using the following two cells, you start with writing the content of the first cell in a `Python` script, `simple_python_script.py`, and you execute it in the second cell."
   ]
  },
  {
   "cell_type": "code",
   "execution_count": null,
   "metadata": {},
   "outputs": [],
   "source": [
    "%%writefile simple_python_script.py\n",
    "\n",
    "def print_info():\n",
    "    import datetime\n",
    "    now = datetime.datetime.now()\n",
    "    print(\"This is a test of magic commands run on {}\". format(now))\n",
    "    \n",
    "print_info()"
   ]
  },
  {
   "cell_type": "code",
   "execution_count": null,
   "metadata": {},
   "outputs": [],
   "source": [
    "%run simple_python_script.py"
   ]
  },
  {
   "cell_type": "markdown",
   "metadata": {},
   "source": [
    "##### Executing shell commands\n",
    "Another useful modifier is the exclamation mark **!**.\n",
    "It allows to execute shell commands from the notebook. Below are a few  examples:  \n",
    "\n",
    "To check the *Jupyter notebooks* in the same folder as the running document:  \n",
    "``` python\n",
    "!ls *.ipynb\n",
    "```\n",
    "\n",
    "To check packages, you can use\n",
    "``` python\n",
    "!pip install numpy\n",
    "!pip list | grep pandas\n",
    "```\n",
    "\n",
    "**Note:** Difference between **!** and **%**  \n",
    "\n",
    "From https://stackoverflow.com/questions/45784499/difference-between-and-in-jupyter-notebooks  \n",
    "> **!** calls out to a shell (in a new process), while **%** affects the notebook itself. Many **%** commands have no shell equivalent.  \n",
    "`!cd foo`, by itself, has no lasting effect, since the process with the changed directory immediayely terminates. `%cd foo` changes the current directory of the notebook process, which is a lasting effect."
   ]
  },
  {
   "cell_type": "markdown",
   "metadata": {},
   "source": [
    "**References:**\n",
    "- [Built-in magic commands](https://ipython.readthedocs.io/en/stable/interactive/magics.html)\n",
    "\n",
    "- [demonstration of how to use Python, Julia, Fortran and R cooperatively to analyze data, in the same process](https://nbviewer.jupyter.org/gist/fperez/5b49246af4e340c37549265a90894ce6/polyglot-ds.ipynb)\n",
    "\n",
    "##### Examples using HTML, bash and perl\n",
    "Code cells can be run using a different kernel, for example, `Html`, `LaTeX`, `bash`... "
   ]
  },
  {
   "cell_type": "code",
   "execution_count": null,
   "metadata": {},
   "outputs": [],
   "source": [
    "%%bash\n",
    "echo $HOME"
   ]
  },
  {
   "cell_type": "code",
   "execution_count": null,
   "metadata": {},
   "outputs": [],
   "source": [
    "%%HTML\n",
    "<H4>Text entered in code cell, rendered as HTML</H4>"
   ]
  },
  {
   "cell_type": "code",
   "execution_count": null,
   "metadata": {},
   "outputs": [],
   "source": [
    "%%perl\n",
    "@months = (\"Jan\", \"Feb\", \"Mar\");\n",
    "print($months[1])"
   ]
  },
  {
   "cell_type": "markdown",
   "metadata": {},
   "source": [
    "# Inline help"
   ]
  },
  {
   "cell_type": "code",
   "execution_count": null,
   "metadata": {},
   "outputs": [],
   "source": [
    "help([])"
   ]
  },
  {
   "cell_type": "markdown",
   "metadata": {},
   "source": [
    "The `help` function output the documentation for an object."
   ]
  },
  {
   "cell_type": "code",
   "execution_count": null,
   "metadata": {},
   "outputs": [],
   "source": [
    "help(dict())"
   ]
  },
  {
   "cell_type": "markdown",
   "metadata": {},
   "source": [
    "Another way to get help with Jupyter and ipython os to use the '?' at the end of an object."
   ]
  },
  {
   "cell_type": "code",
   "execution_count": null,
   "metadata": {},
   "outputs": [],
   "source": [
    "dict?"
   ]
  },
  {
   "cell_type": "markdown",
   "metadata": {},
   "source": [
    "Typing the name of an object on the last line in a cell output information about the object"
   ]
  },
  {
   "cell_type": "code",
   "execution_count": null,
   "metadata": {},
   "outputs": [],
   "source": [
    "a = dict(a=3, b=5)\n",
    "a"
   ]
  },
  {
   "cell_type": "markdown",
   "metadata": {},
   "source": [
    "but it has to be on the last line. The following will not create an output"
   ]
  },
  {
   "cell_type": "code",
   "execution_count": null,
   "metadata": {},
   "outputs": [],
   "source": [
    "b = range(10)\n",
    "b\n",
    "c = 3"
   ]
  },
  {
   "cell_type": "markdown",
   "metadata": {},
   "source": [
    "unless we use `print`"
   ]
  },
  {
   "cell_type": "code",
   "execution_count": null,
   "metadata": {},
   "outputs": [],
   "source": [
    "b = range(10)\n",
    "print(b)\n",
    "c = 3"
   ]
  },
  {
   "cell_type": "markdown",
   "metadata": {},
   "source": [
    "The wonderful **`TAB`** key. `TAB` invokes auto-completion.\n",
    "\n",
    "Try type \"l\" immediately followed by TAB in the cell below and see what happens"
   ]
  },
  {
   "cell_type": "code",
   "execution_count": null,
   "metadata": {},
   "outputs": [],
   "source": [
    "# -- YOUR CODE BELOW --\n"
   ]
  },
  {
   "cell_type": "markdown",
   "metadata": {},
   "source": [
    "It list the ways that the \"l\" can be completed. If there is only one option, it will just complete your input for you. If you type \"li\" followed by `TAB` it will list those starting with \"li\" and so on. Note that you can select from the drop down menu that appears.\n",
    "\n",
    "Try to type 'from numpy import ' followed by `TAB`. "
   ]
  },
  {
   "cell_type": "code",
   "execution_count": null,
   "metadata": {},
   "outputs": [],
   "source": [
    "# -- YOUR CODE BELOW --\n"
   ]
  },
  {
   "cell_type": "markdown",
   "metadata": {},
   "source": [
    "## Customizing my notebook\n",
    "There is a number of ways to add features and customize your jupyter notebooks. For example, with [Jupyter Notebook extensions](https://towardsdatascience.com/jupyter-notebook-extensions-517fa69d2231), one can include:\n",
    "- table of contents\n",
    "- add a spellchecker\n",
    "- scratchpad\n",
    "- freeze (read-only cells)\n",
    "\n",
    "## Examples in scientific community\n",
    "  - [neutron imaging community](https://github.com/neutrons/IPythonNotebookTutorial)\n",
    "  - [icet tutorials](https://gitlab.com/materials-modeling/icet-tutorials): scientific software for constructing atomic scale models of materials\n",
    "  - [Atomic Simulation Environment](https://github.com/ajjackson/ase-tutorial-symmetry)\n",
    "  - [qef](https://github.com/jmborr/qef/tree/master/notebooks): lmfit models for fitting quasielastic neutron scattering data\n",
    "  - [QENS models](https://github.com/QENSlibrary/QENSmodels/tree/master/examples)\n",
    "  - [McStasScript](https://github.com/PaNOSC-ViNYL/McStasScript/tree/master/examples)\n",
    "  - [scipp](https://scipp.readthedocs.io/en/latest/visualization/plotting-overview.html): multi-dimensional data arrays with labeled dimensions \n",
    "  -  Google group [Jupyter at Research Facilities](https://groups.google.com/forum/#!forum/jupyter-research-facilities)"
   ]
  },
  {
   "cell_type": "markdown",
   "metadata": {},
   "source": [
    "# Additional materials\n",
    "## Uploading my files to JupyterHub\n",
    "If you want to use your own datafiles, click on the `Upload` button as shown in the figure below:\n",
    "\n",
    "<div>\n",
    "<img src=\"../../docs/images/upload-my-file.png\" alt=\"UploadMyFile\" style=\"width: 600px;\"/>\n",
    "<div style=\"text-align:center\"> <span style=\"font-style:italic; font-size:1em;\"> Screenshot of Jupyter dashboard highlighting the `Upload` button to load user's own file(s) in the dashboard.  </span></div>\n",
    "</div>\n",
    "\n",
    "## Installation (not required for this workshop)\n",
    "Although it is possible to run each notebook of this repository using the *JupyterHub* (meaning that they are run on an external compute resources), you may want to try writing your own *Jupyter* notebooks and *Python* code.\n",
    "\n",
    "If it is the case, you will have to install *Jupyter* notebooks locally (*e.g.* on your own laptop or desktop). This can be achieved by downloading and installing Anaconda. This is available for Windows, macOS and Linux [here](https://www.anaconda.com/distribution/#download-section).\n",
    "\n",
    "Once installed the *Jupyter* notebooks can be opened, like how it is done during this training session. This creates a new window in your web browser: this is the *Jupyter* file navigator. Using this you can navigate to a specific folder, open an existing notebook or create a new one and save it on your system.\n",
    "\n",
    "## ipywidgets\n",
    "* [basic widget tutorial](../3_using_external_libraries/3_ipywidgets.ipynb)\n",
    "* [complete collection of jupyter widgets tutorials](https://github.com/jupyter-widgets/tutorial/tree/master/notebooks)\n",
    "* [list of widgets](https://ipywidgets.readthedocs.io/en/latest/examples/Widget%20List.html)\n",
    "\n",
    "## What to do when things go wrong?\n",
    "\n",
    "https://jupyter-notebook.readthedocs.io/en/stable/troubleshooting.html\n",
    "\n",
    "## Trusting notebooks\n",
    "https://jupyter-notebook.readthedocs.io/en/latest/security.html#notebook-security"
   ]
  },
  {
   "cell_type": "code",
   "execution_count": null,
   "metadata": {},
   "outputs": [],
   "source": []
  }
 ],
 "metadata": {
  "kernelspec": {
   "display_name": "Python 3",
   "language": "python",
   "name": "python3"
  },
  "language_info": {
   "codemirror_mode": {
    "name": "ipython",
    "version": 3
   },
   "file_extension": ".py",
   "mimetype": "text/x-python",
   "name": "python",
   "nbconvert_exporter": "python",
   "pygments_lexer": "ipython3",
   "version": "3.7.4"
  },
  "toc": {
   "base_numbering": 1,
   "nav_menu": {},
   "number_sections": true,
   "sideBar": true,
   "skip_h1_title": false,
   "title_cell": "Table of Contents",
   "title_sidebar": "Contents",
   "toc_cell": false,
   "toc_position": {
    "height": "calc(100% - 180px)",
    "left": "10px",
    "top": "150px",
    "width": "245.8px"
   },
   "toc_section_display": true,
   "toc_window_display": false
  },
  "varInspector": {
   "cols": {
    "lenName": 16,
    "lenType": 16,
    "lenVar": 40
   },
   "kernels_config": {
    "python": {
     "delete_cmd_postfix": "",
     "delete_cmd_prefix": "del ",
     "library": "var_list.py",
     "varRefreshCmd": "print(var_dic_list())"
    },
    "r": {
     "delete_cmd_postfix": ") ",
     "delete_cmd_prefix": "rm(",
     "library": "var_list.r",
     "varRefreshCmd": "cat(var_dic_list()) "
    }
   },
   "types_to_exclude": [
    "module",
    "function",
    "builtin_function_or_method",
    "instance",
    "_Feature"
   ],
   "window_display": false
  }
 },
 "nbformat": 4,
 "nbformat_minor": 2
}
